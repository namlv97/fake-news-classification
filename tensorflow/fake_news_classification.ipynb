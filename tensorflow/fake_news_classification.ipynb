{
  "nbformat": 4,
  "nbformat_minor": 0,
  "metadata": {
    "colab": {
      "name": "fake news classification",
      "provenance": [],
      "collapsed_sections": []
    },
    "kernelspec": {
      "name": "python3",
      "display_name": "Python 3"
    },
    "language_info": {
      "name": "python"
    },
    "accelerator": "GPU",
    "widgets": {
      "application/vnd.jupyter.widget-state+json": {
        "34756d23c1934b769b3ddcf60418666b": {
          "model_module": "@jupyter-widgets/controls",
          "model_name": "HBoxModel",
          "model_module_version": "1.5.0",
          "state": {
            "_dom_classes": [],
            "_model_module": "@jupyter-widgets/controls",
            "_model_module_version": "1.5.0",
            "_model_name": "HBoxModel",
            "_view_count": null,
            "_view_module": "@jupyter-widgets/controls",
            "_view_module_version": "1.5.0",
            "_view_name": "HBoxView",
            "box_style": "",
            "children": [
              "IPY_MODEL_8cf07405d0da494e93d81d3f2c1ab984",
              "IPY_MODEL_7868a4db73eb42d7a7a4d2f6b0eca2ef",
              "IPY_MODEL_53099efe13854f979d30b9b55f43e29c"
            ],
            "layout": "IPY_MODEL_a38e3bbd88cc45509a3aae1c93795f6a"
          }
        },
        "8cf07405d0da494e93d81d3f2c1ab984": {
          "model_module": "@jupyter-widgets/controls",
          "model_name": "HTMLModel",
          "model_module_version": "1.5.0",
          "state": {
            "_dom_classes": [],
            "_model_module": "@jupyter-widgets/controls",
            "_model_module_version": "1.5.0",
            "_model_name": "HTMLModel",
            "_view_count": null,
            "_view_module": "@jupyter-widgets/controls",
            "_view_module_version": "1.5.0",
            "_view_name": "HTMLView",
            "description": "",
            "description_tooltip": null,
            "layout": "IPY_MODEL_d287f001e9ee4443b96ade1d86fe1e0c",
            "placeholder": "​",
            "style": "IPY_MODEL_d94bd9ca8e62412d8fcb9e72bca4caf2",
            "value": " 32%"
          }
        },
        "7868a4db73eb42d7a7a4d2f6b0eca2ef": {
          "model_module": "@jupyter-widgets/controls",
          "model_name": "FloatProgressModel",
          "model_module_version": "1.5.0",
          "state": {
            "_dom_classes": [],
            "_model_module": "@jupyter-widgets/controls",
            "_model_module_version": "1.5.0",
            "_model_name": "FloatProgressModel",
            "_view_count": null,
            "_view_module": "@jupyter-widgets/controls",
            "_view_module_version": "1.5.0",
            "_view_name": "ProgressView",
            "bar_style": "",
            "description": "",
            "description_tooltip": null,
            "layout": "IPY_MODEL_dcb065af3180464b89408d9b789e64f0",
            "max": 2079,
            "min": 0,
            "orientation": "horizontal",
            "style": "IPY_MODEL_8688d2eba0fb426f9f98323aa865be2b",
            "value": 664
          }
        },
        "53099efe13854f979d30b9b55f43e29c": {
          "model_module": "@jupyter-widgets/controls",
          "model_name": "HTMLModel",
          "model_module_version": "1.5.0",
          "state": {
            "_dom_classes": [],
            "_model_module": "@jupyter-widgets/controls",
            "_model_module_version": "1.5.0",
            "_model_name": "HTMLModel",
            "_view_count": null,
            "_view_module": "@jupyter-widgets/controls",
            "_view_module_version": "1.5.0",
            "_view_name": "HTMLView",
            "description": "",
            "description_tooltip": null,
            "layout": "IPY_MODEL_466054b463404518a03bd0b00d6465fa",
            "placeholder": "​",
            "style": "IPY_MODEL_56b6758cd1974af691219f67ef978073",
            "value": " 664/2079 [05:40&lt;11:51,  1.99it/s, train_loss_per_batch=0.105]"
          }
        },
        "a38e3bbd88cc45509a3aae1c93795f6a": {
          "model_module": "@jupyter-widgets/base",
          "model_name": "LayoutModel",
          "model_module_version": "1.2.0",
          "state": {
            "_model_module": "@jupyter-widgets/base",
            "_model_module_version": "1.2.0",
            "_model_name": "LayoutModel",
            "_view_count": null,
            "_view_module": "@jupyter-widgets/base",
            "_view_module_version": "1.2.0",
            "_view_name": "LayoutView",
            "align_content": null,
            "align_items": null,
            "align_self": null,
            "border": null,
            "bottom": null,
            "display": null,
            "flex": null,
            "flex_flow": null,
            "grid_area": null,
            "grid_auto_columns": null,
            "grid_auto_flow": null,
            "grid_auto_rows": null,
            "grid_column": null,
            "grid_gap": null,
            "grid_row": null,
            "grid_template_areas": null,
            "grid_template_columns": null,
            "grid_template_rows": null,
            "height": null,
            "justify_content": null,
            "justify_items": null,
            "left": null,
            "margin": null,
            "max_height": null,
            "max_width": null,
            "min_height": null,
            "min_width": null,
            "object_fit": null,
            "object_position": null,
            "order": null,
            "overflow": null,
            "overflow_x": null,
            "overflow_y": null,
            "padding": null,
            "right": null,
            "top": null,
            "visibility": null,
            "width": null
          }
        },
        "d287f001e9ee4443b96ade1d86fe1e0c": {
          "model_module": "@jupyter-widgets/base",
          "model_name": "LayoutModel",
          "model_module_version": "1.2.0",
          "state": {
            "_model_module": "@jupyter-widgets/base",
            "_model_module_version": "1.2.0",
            "_model_name": "LayoutModel",
            "_view_count": null,
            "_view_module": "@jupyter-widgets/base",
            "_view_module_version": "1.2.0",
            "_view_name": "LayoutView",
            "align_content": null,
            "align_items": null,
            "align_self": null,
            "border": null,
            "bottom": null,
            "display": null,
            "flex": null,
            "flex_flow": null,
            "grid_area": null,
            "grid_auto_columns": null,
            "grid_auto_flow": null,
            "grid_auto_rows": null,
            "grid_column": null,
            "grid_gap": null,
            "grid_row": null,
            "grid_template_areas": null,
            "grid_template_columns": null,
            "grid_template_rows": null,
            "height": null,
            "justify_content": null,
            "justify_items": null,
            "left": null,
            "margin": null,
            "max_height": null,
            "max_width": null,
            "min_height": null,
            "min_width": null,
            "object_fit": null,
            "object_position": null,
            "order": null,
            "overflow": null,
            "overflow_x": null,
            "overflow_y": null,
            "padding": null,
            "right": null,
            "top": null,
            "visibility": null,
            "width": null
          }
        },
        "d94bd9ca8e62412d8fcb9e72bca4caf2": {
          "model_module": "@jupyter-widgets/controls",
          "model_name": "DescriptionStyleModel",
          "model_module_version": "1.5.0",
          "state": {
            "_model_module": "@jupyter-widgets/controls",
            "_model_module_version": "1.5.0",
            "_model_name": "DescriptionStyleModel",
            "_view_count": null,
            "_view_module": "@jupyter-widgets/base",
            "_view_module_version": "1.2.0",
            "_view_name": "StyleView",
            "description_width": ""
          }
        },
        "dcb065af3180464b89408d9b789e64f0": {
          "model_module": "@jupyter-widgets/base",
          "model_name": "LayoutModel",
          "model_module_version": "1.2.0",
          "state": {
            "_model_module": "@jupyter-widgets/base",
            "_model_module_version": "1.2.0",
            "_model_name": "LayoutModel",
            "_view_count": null,
            "_view_module": "@jupyter-widgets/base",
            "_view_module_version": "1.2.0",
            "_view_name": "LayoutView",
            "align_content": null,
            "align_items": null,
            "align_self": null,
            "border": null,
            "bottom": null,
            "display": null,
            "flex": null,
            "flex_flow": null,
            "grid_area": null,
            "grid_auto_columns": null,
            "grid_auto_flow": null,
            "grid_auto_rows": null,
            "grid_column": null,
            "grid_gap": null,
            "grid_row": null,
            "grid_template_areas": null,
            "grid_template_columns": null,
            "grid_template_rows": null,
            "height": null,
            "justify_content": null,
            "justify_items": null,
            "left": null,
            "margin": null,
            "max_height": null,
            "max_width": null,
            "min_height": null,
            "min_width": null,
            "object_fit": null,
            "object_position": null,
            "order": null,
            "overflow": null,
            "overflow_x": null,
            "overflow_y": null,
            "padding": null,
            "right": null,
            "top": null,
            "visibility": null,
            "width": null
          }
        },
        "8688d2eba0fb426f9f98323aa865be2b": {
          "model_module": "@jupyter-widgets/controls",
          "model_name": "ProgressStyleModel",
          "model_module_version": "1.5.0",
          "state": {
            "_model_module": "@jupyter-widgets/controls",
            "_model_module_version": "1.5.0",
            "_model_name": "ProgressStyleModel",
            "_view_count": null,
            "_view_module": "@jupyter-widgets/base",
            "_view_module_version": "1.2.0",
            "_view_name": "StyleView",
            "bar_color": null,
            "description_width": ""
          }
        },
        "466054b463404518a03bd0b00d6465fa": {
          "model_module": "@jupyter-widgets/base",
          "model_name": "LayoutModel",
          "model_module_version": "1.2.0",
          "state": {
            "_model_module": "@jupyter-widgets/base",
            "_model_module_version": "1.2.0",
            "_model_name": "LayoutModel",
            "_view_count": null,
            "_view_module": "@jupyter-widgets/base",
            "_view_module_version": "1.2.0",
            "_view_name": "LayoutView",
            "align_content": null,
            "align_items": null,
            "align_self": null,
            "border": null,
            "bottom": null,
            "display": null,
            "flex": null,
            "flex_flow": null,
            "grid_area": null,
            "grid_auto_columns": null,
            "grid_auto_flow": null,
            "grid_auto_rows": null,
            "grid_column": null,
            "grid_gap": null,
            "grid_row": null,
            "grid_template_areas": null,
            "grid_template_columns": null,
            "grid_template_rows": null,
            "height": null,
            "justify_content": null,
            "justify_items": null,
            "left": null,
            "margin": null,
            "max_height": null,
            "max_width": null,
            "min_height": null,
            "min_width": null,
            "object_fit": null,
            "object_position": null,
            "order": null,
            "overflow": null,
            "overflow_x": null,
            "overflow_y": null,
            "padding": null,
            "right": null,
            "top": null,
            "visibility": null,
            "width": null
          }
        },
        "56b6758cd1974af691219f67ef978073": {
          "model_module": "@jupyter-widgets/controls",
          "model_name": "DescriptionStyleModel",
          "model_module_version": "1.5.0",
          "state": {
            "_model_module": "@jupyter-widgets/controls",
            "_model_module_version": "1.5.0",
            "_model_name": "DescriptionStyleModel",
            "_view_count": null,
            "_view_module": "@jupyter-widgets/base",
            "_view_module_version": "1.2.0",
            "_view_name": "StyleView",
            "description_width": ""
          }
        }
      }
    }
  },
  "cells": [
    {
      "cell_type": "code",
      "execution_count": null,
      "metadata": {
        "colab": {
          "base_uri": "https://localhost:8080/"
        },
        "id": "85dZy7u3_z24",
        "outputId": "18576409-dbb8-44b1-9a6b-76ba40e80082"
      },
      "outputs": [
        {
          "output_type": "stream",
          "name": "stdout",
          "text": [
            "Fri Apr  8 02:27:40 2022       \n",
            "+-----------------------------------------------------------------------------+\n",
            "| NVIDIA-SMI 460.32.03    Driver Version: 460.32.03    CUDA Version: 11.2     |\n",
            "|-------------------------------+----------------------+----------------------+\n",
            "| GPU  Name        Persistence-M| Bus-Id        Disp.A | Volatile Uncorr. ECC |\n",
            "| Fan  Temp  Perf  Pwr:Usage/Cap|         Memory-Usage | GPU-Util  Compute M. |\n",
            "|                               |                      |               MIG M. |\n",
            "|===============================+======================+======================|\n",
            "|   0  Tesla T4            Off  | 00000000:00:04.0 Off |                    0 |\n",
            "| N/A   53C    P8    10W /  70W |      0MiB / 15109MiB |      0%      Default |\n",
            "|                               |                      |                  N/A |\n",
            "+-------------------------------+----------------------+----------------------+\n",
            "                                                                               \n",
            "+-----------------------------------------------------------------------------+\n",
            "| Processes:                                                                  |\n",
            "|  GPU   GI   CI        PID   Type   Process name                  GPU Memory |\n",
            "|        ID   ID                                                   Usage      |\n",
            "|=============================================================================|\n",
            "|  No running processes found                                                 |\n",
            "+-----------------------------------------------------------------------------+\n"
          ]
        }
      ],
      "source": [
        "!nvidia-smi"
      ]
    },
    {
      "cell_type": "code",
      "source": [
        "from google.colab import drive\n",
        "drive.mount('/content/drive')"
      ],
      "metadata": {
        "colab": {
          "base_uri": "https://localhost:8080/"
        },
        "id": "FR96MjxB_5mb",
        "outputId": "e8dcd388-347b-432c-a99f-5d17f09c022c"
      },
      "execution_count": null,
      "outputs": [
        {
          "output_type": "stream",
          "name": "stdout",
          "text": [
            "Mounted at /content/drive\n"
          ]
        }
      ]
    },
    {
      "cell_type": "code",
      "source": [
        "!pip install transformers"
      ],
      "metadata": {
        "colab": {
          "base_uri": "https://localhost:8080/"
        },
        "id": "QPpIKKVo__RP",
        "outputId": "c4791f07-9b95-436f-8a47-3d924b868604"
      },
      "execution_count": null,
      "outputs": [
        {
          "output_type": "stream",
          "name": "stdout",
          "text": [
            "Collecting transformers\n",
            "  Downloading transformers-4.18.0-py3-none-any.whl (4.0 MB)\n",
            "\u001b[K     |████████████████████████████████| 4.0 MB 5.2 MB/s \n",
            "\u001b[?25hCollecting sacremoses\n",
            "  Downloading sacremoses-0.0.49-py3-none-any.whl (895 kB)\n",
            "\u001b[K     |████████████████████████████████| 895 kB 44.7 MB/s \n",
            "\u001b[?25hRequirement already satisfied: importlib-metadata in /usr/local/lib/python3.7/dist-packages (from transformers) (4.11.3)\n",
            "Requirement already satisfied: packaging>=20.0 in /usr/local/lib/python3.7/dist-packages (from transformers) (21.3)\n",
            "Requirement already satisfied: regex!=2019.12.17 in /usr/local/lib/python3.7/dist-packages (from transformers) (2019.12.20)\n",
            "Requirement already satisfied: requests in /usr/local/lib/python3.7/dist-packages (from transformers) (2.23.0)\n",
            "Collecting huggingface-hub<1.0,>=0.1.0\n",
            "  Downloading huggingface_hub-0.5.1-py3-none-any.whl (77 kB)\n",
            "\u001b[K     |████████████████████████████████| 77 kB 7.2 MB/s \n",
            "\u001b[?25hRequirement already satisfied: numpy>=1.17 in /usr/local/lib/python3.7/dist-packages (from transformers) (1.21.5)\n",
            "Collecting pyyaml>=5.1\n",
            "  Downloading PyYAML-6.0-cp37-cp37m-manylinux_2_5_x86_64.manylinux1_x86_64.manylinux_2_12_x86_64.manylinux2010_x86_64.whl (596 kB)\n",
            "\u001b[K     |████████████████████████████████| 596 kB 17.5 MB/s \n",
            "\u001b[?25hCollecting tokenizers!=0.11.3,<0.13,>=0.11.1\n",
            "  Downloading tokenizers-0.11.6-cp37-cp37m-manylinux_2_12_x86_64.manylinux2010_x86_64.whl (6.5 MB)\n",
            "\u001b[K     |████████████████████████████████| 6.5 MB 46.0 MB/s \n",
            "\u001b[?25hRequirement already satisfied: tqdm>=4.27 in /usr/local/lib/python3.7/dist-packages (from transformers) (4.63.0)\n",
            "Requirement already satisfied: filelock in /usr/local/lib/python3.7/dist-packages (from transformers) (3.6.0)\n",
            "Requirement already satisfied: typing-extensions>=3.7.4.3 in /usr/local/lib/python3.7/dist-packages (from huggingface-hub<1.0,>=0.1.0->transformers) (3.10.0.2)\n",
            "Requirement already satisfied: pyparsing!=3.0.5,>=2.0.2 in /usr/local/lib/python3.7/dist-packages (from packaging>=20.0->transformers) (3.0.7)\n",
            "Requirement already satisfied: zipp>=0.5 in /usr/local/lib/python3.7/dist-packages (from importlib-metadata->transformers) (3.7.0)\n",
            "Requirement already satisfied: urllib3!=1.25.0,!=1.25.1,<1.26,>=1.21.1 in /usr/local/lib/python3.7/dist-packages (from requests->transformers) (1.24.3)\n",
            "Requirement already satisfied: chardet<4,>=3.0.2 in /usr/local/lib/python3.7/dist-packages (from requests->transformers) (3.0.4)\n",
            "Requirement already satisfied: idna<3,>=2.5 in /usr/local/lib/python3.7/dist-packages (from requests->transformers) (2.10)\n",
            "Requirement already satisfied: certifi>=2017.4.17 in /usr/local/lib/python3.7/dist-packages (from requests->transformers) (2021.10.8)\n",
            "Requirement already satisfied: six in /usr/local/lib/python3.7/dist-packages (from sacremoses->transformers) (1.15.0)\n",
            "Requirement already satisfied: click in /usr/local/lib/python3.7/dist-packages (from sacremoses->transformers) (7.1.2)\n",
            "Requirement already satisfied: joblib in /usr/local/lib/python3.7/dist-packages (from sacremoses->transformers) (1.1.0)\n",
            "Installing collected packages: pyyaml, tokenizers, sacremoses, huggingface-hub, transformers\n",
            "  Attempting uninstall: pyyaml\n",
            "    Found existing installation: PyYAML 3.13\n",
            "    Uninstalling PyYAML-3.13:\n",
            "      Successfully uninstalled PyYAML-3.13\n",
            "Successfully installed huggingface-hub-0.5.1 pyyaml-6.0 sacremoses-0.0.49 tokenizers-0.11.6 transformers-4.18.0\n"
          ]
        }
      ]
    },
    {
      "cell_type": "code",
      "source": [
        "import json\n",
        "content={\"username\":\"namlv1997\",\"key\":\"5ecc995bb891689ee7f58417d65cbe37\"}\n",
        "with open('kaggle.json','w')as f:\n",
        "  json.dump(content,f)"
      ],
      "metadata": {
        "id": "Ltc53iGjACnB"
      },
      "execution_count": null,
      "outputs": []
    },
    {
      "cell_type": "code",
      "source": [
        "!mv /content/kaggle.json \"/root/.kaggle/kaggle.json\""
      ],
      "metadata": {
        "id": "SomOt1-sAEyh"
      },
      "execution_count": null,
      "outputs": []
    },
    {
      "cell_type": "code",
      "source": [
        "!kaggle competitions download -c fake-news"
      ],
      "metadata": {
        "colab": {
          "base_uri": "https://localhost:8080/"
        },
        "id": "b_szj3qtAK0F",
        "outputId": "675e5090-27aa-404e-fe97-a3a20d91ab18"
      },
      "execution_count": null,
      "outputs": [
        {
          "output_type": "stream",
          "name": "stdout",
          "text": [
            "Warning: Your Kaggle API key is readable by other users on this system! To fix this, you can run 'chmod 600 /root/.kaggle/kaggle.json'\n",
            "Downloading fake-news.zip to /content\n",
            " 65% 30.0M/46.5M [00:00<00:00, 117MB/s] \n",
            "100% 46.5M/46.5M [00:00<00:00, 125MB/s]\n"
          ]
        }
      ]
    },
    {
      "cell_type": "code",
      "source": [
        "!unzip /content/fake-news.zip"
      ],
      "metadata": {
        "colab": {
          "base_uri": "https://localhost:8080/"
        },
        "id": "x8WBh6UzAE7M",
        "outputId": "5f8b4875-ea3b-421e-b757-1697a9e9619c"
      },
      "execution_count": null,
      "outputs": [
        {
          "output_type": "stream",
          "name": "stdout",
          "text": [
            "Archive:  /content/fake-news.zip\n",
            "  inflating: submit.csv              \n",
            "  inflating: test.csv                \n",
            "  inflating: train.csv               \n"
          ]
        }
      ]
    },
    {
      "cell_type": "code",
      "source": [
        "from tqdm.auto import tqdm\n",
        "import pandas as pd\n",
        "import tensorflow as tf\n",
        "import numpy as np\n",
        "import string\n",
        "import re\n",
        "from os.path import join\n",
        "import os\n",
        "from transformers import AutoTokenizer\n",
        "from transformers import TFAutoModelForSequenceClassification\n",
        "from transformers import create_optimizer\n",
        "from sklearn.metrics import f1_score\n",
        "from transformers import AutoConfig"
      ],
      "metadata": {
        "id": "dyBAb1uZA0WO"
      },
      "execution_count": 1,
      "outputs": []
    },
    {
      "cell_type": "code",
      "source": [
        "fake_news_folder=\"fake_news\"\n",
        "fake_new_dataset=\"raw_dataset\"\n",
        "fake_new_models=\"models\"\n",
        "name=\"distilbert-base-uncased\""
      ],
      "metadata": {
        "id": "PVpfuboYBZir"
      },
      "execution_count": 2,
      "outputs": []
    },
    {
      "cell_type": "code",
      "source": [
        "root_path=\"/content/drive/MyDrive\"\n",
        "fake_news_folder_path=join(root_path,fake_news_folder)\n",
        "fake_news_dataset_path=join(root_path,fake_news_folder,fake_new_dataset)\n",
        "fake_news_models_path=join(root_path,fake_news_folder,fake_new_models)\n",
        "model_path=f'{fake_news_models_path}/{name}/'"
      ],
      "metadata": {
        "id": "72BJIh7KB3Lg"
      },
      "execution_count": 13,
      "outputs": []
    },
    {
      "cell_type": "code",
      "source": [
        "os.makedirs(model_path, exist_ok=True)"
      ],
      "metadata": {
        "id": "7gYTxLDaCTNV"
      },
      "execution_count": 14,
      "outputs": []
    },
    {
      "cell_type": "markdown",
      "source": [
        "# Load fake news dataset from kaggle"
      ],
      "metadata": {
        "id": "-5VTtmBaAQt9"
      }
    },
    {
      "cell_type": "code",
      "source": [
        "df=pd.read_csv(\"/content/train.csv\",index_col=False)\n",
        "df=df.drop(['id','title','author'],axis=1)\n",
        "df=df.dropna(subset=['label', 'text'])\n",
        "df"
      ],
      "metadata": {
        "colab": {
          "base_uri": "https://localhost:8080/",
          "height": 424
        },
        "id": "pfagq27fAPap",
        "outputId": "b20a4be5-daca-4985-edb6-e79af04959af"
      },
      "execution_count": 6,
      "outputs": [
        {
          "output_type": "execute_result",
          "data": {
            "text/plain": [
              "                                                    text  label\n",
              "0      House Dem Aide: We Didn’t Even See Comey’s Let...      1\n",
              "1      Ever get the feeling your life circles the rou...      0\n",
              "2      Why the Truth Might Get You Fired October 29, ...      1\n",
              "3      Videos 15 Civilians Killed In Single US Airstr...      1\n",
              "4      Print \\nAn Iranian woman has been sentenced to...      1\n",
              "...                                                  ...    ...\n",
              "20795  Rapper T. I. unloaded on black celebrities who...      0\n",
              "20796  When the Green Bay Packers lost to the Washing...      0\n",
              "20797  The Macy’s of today grew from the union of sev...      0\n",
              "20798  NATO, Russia To Hold Parallel Exercises In Bal...      1\n",
              "20799    David Swanson is an author, activist, journa...      1\n",
              "\n",
              "[20761 rows x 2 columns]"
            ],
            "text/html": [
              "\n",
              "  <div id=\"df-9ba4a931-72be-41e6-884e-8bb11ee4bc78\">\n",
              "    <div class=\"colab-df-container\">\n",
              "      <div>\n",
              "<style scoped>\n",
              "    .dataframe tbody tr th:only-of-type {\n",
              "        vertical-align: middle;\n",
              "    }\n",
              "\n",
              "    .dataframe tbody tr th {\n",
              "        vertical-align: top;\n",
              "    }\n",
              "\n",
              "    .dataframe thead th {\n",
              "        text-align: right;\n",
              "    }\n",
              "</style>\n",
              "<table border=\"1\" class=\"dataframe\">\n",
              "  <thead>\n",
              "    <tr style=\"text-align: right;\">\n",
              "      <th></th>\n",
              "      <th>text</th>\n",
              "      <th>label</th>\n",
              "    </tr>\n",
              "  </thead>\n",
              "  <tbody>\n",
              "    <tr>\n",
              "      <th>0</th>\n",
              "      <td>House Dem Aide: We Didn’t Even See Comey’s Let...</td>\n",
              "      <td>1</td>\n",
              "    </tr>\n",
              "    <tr>\n",
              "      <th>1</th>\n",
              "      <td>Ever get the feeling your life circles the rou...</td>\n",
              "      <td>0</td>\n",
              "    </tr>\n",
              "    <tr>\n",
              "      <th>2</th>\n",
              "      <td>Why the Truth Might Get You Fired October 29, ...</td>\n",
              "      <td>1</td>\n",
              "    </tr>\n",
              "    <tr>\n",
              "      <th>3</th>\n",
              "      <td>Videos 15 Civilians Killed In Single US Airstr...</td>\n",
              "      <td>1</td>\n",
              "    </tr>\n",
              "    <tr>\n",
              "      <th>4</th>\n",
              "      <td>Print \\nAn Iranian woman has been sentenced to...</td>\n",
              "      <td>1</td>\n",
              "    </tr>\n",
              "    <tr>\n",
              "      <th>...</th>\n",
              "      <td>...</td>\n",
              "      <td>...</td>\n",
              "    </tr>\n",
              "    <tr>\n",
              "      <th>20795</th>\n",
              "      <td>Rapper T. I. unloaded on black celebrities who...</td>\n",
              "      <td>0</td>\n",
              "    </tr>\n",
              "    <tr>\n",
              "      <th>20796</th>\n",
              "      <td>When the Green Bay Packers lost to the Washing...</td>\n",
              "      <td>0</td>\n",
              "    </tr>\n",
              "    <tr>\n",
              "      <th>20797</th>\n",
              "      <td>The Macy’s of today grew from the union of sev...</td>\n",
              "      <td>0</td>\n",
              "    </tr>\n",
              "    <tr>\n",
              "      <th>20798</th>\n",
              "      <td>NATO, Russia To Hold Parallel Exercises In Bal...</td>\n",
              "      <td>1</td>\n",
              "    </tr>\n",
              "    <tr>\n",
              "      <th>20799</th>\n",
              "      <td>David Swanson is an author, activist, journa...</td>\n",
              "      <td>1</td>\n",
              "    </tr>\n",
              "  </tbody>\n",
              "</table>\n",
              "<p>20761 rows × 2 columns</p>\n",
              "</div>\n",
              "      <button class=\"colab-df-convert\" onclick=\"convertToInteractive('df-9ba4a931-72be-41e6-884e-8bb11ee4bc78')\"\n",
              "              title=\"Convert this dataframe to an interactive table.\"\n",
              "              style=\"display:none;\">\n",
              "        \n",
              "  <svg xmlns=\"http://www.w3.org/2000/svg\" height=\"24px\"viewBox=\"0 0 24 24\"\n",
              "       width=\"24px\">\n",
              "    <path d=\"M0 0h24v24H0V0z\" fill=\"none\"/>\n",
              "    <path d=\"M18.56 5.44l.94 2.06.94-2.06 2.06-.94-2.06-.94-.94-2.06-.94 2.06-2.06.94zm-11 1L8.5 8.5l.94-2.06 2.06-.94-2.06-.94L8.5 2.5l-.94 2.06-2.06.94zm10 10l.94 2.06.94-2.06 2.06-.94-2.06-.94-.94-2.06-.94 2.06-2.06.94z\"/><path d=\"M17.41 7.96l-1.37-1.37c-.4-.4-.92-.59-1.43-.59-.52 0-1.04.2-1.43.59L10.3 9.45l-7.72 7.72c-.78.78-.78 2.05 0 2.83L4 21.41c.39.39.9.59 1.41.59.51 0 1.02-.2 1.41-.59l7.78-7.78 2.81-2.81c.8-.78.8-2.07 0-2.86zM5.41 20L4 18.59l7.72-7.72 1.47 1.35L5.41 20z\"/>\n",
              "  </svg>\n",
              "      </button>\n",
              "      \n",
              "  <style>\n",
              "    .colab-df-container {\n",
              "      display:flex;\n",
              "      flex-wrap:wrap;\n",
              "      gap: 12px;\n",
              "    }\n",
              "\n",
              "    .colab-df-convert {\n",
              "      background-color: #E8F0FE;\n",
              "      border: none;\n",
              "      border-radius: 50%;\n",
              "      cursor: pointer;\n",
              "      display: none;\n",
              "      fill: #1967D2;\n",
              "      height: 32px;\n",
              "      padding: 0 0 0 0;\n",
              "      width: 32px;\n",
              "    }\n",
              "\n",
              "    .colab-df-convert:hover {\n",
              "      background-color: #E2EBFA;\n",
              "      box-shadow: 0px 1px 2px rgba(60, 64, 67, 0.3), 0px 1px 3px 1px rgba(60, 64, 67, 0.15);\n",
              "      fill: #174EA6;\n",
              "    }\n",
              "\n",
              "    [theme=dark] .colab-df-convert {\n",
              "      background-color: #3B4455;\n",
              "      fill: #D2E3FC;\n",
              "    }\n",
              "\n",
              "    [theme=dark] .colab-df-convert:hover {\n",
              "      background-color: #434B5C;\n",
              "      box-shadow: 0px 1px 3px 1px rgba(0, 0, 0, 0.15);\n",
              "      filter: drop-shadow(0px 1px 2px rgba(0, 0, 0, 0.3));\n",
              "      fill: #FFFFFF;\n",
              "    }\n",
              "  </style>\n",
              "\n",
              "      <script>\n",
              "        const buttonEl =\n",
              "          document.querySelector('#df-9ba4a931-72be-41e6-884e-8bb11ee4bc78 button.colab-df-convert');\n",
              "        buttonEl.style.display =\n",
              "          google.colab.kernel.accessAllowed ? 'block' : 'none';\n",
              "\n",
              "        async function convertToInteractive(key) {\n",
              "          const element = document.querySelector('#df-9ba4a931-72be-41e6-884e-8bb11ee4bc78');\n",
              "          const dataTable =\n",
              "            await google.colab.kernel.invokeFunction('convertToInteractive',\n",
              "                                                     [key], {});\n",
              "          if (!dataTable) return;\n",
              "\n",
              "          const docLinkHtml = 'Like what you see? Visit the ' +\n",
              "            '<a target=\"_blank\" href=https://colab.research.google.com/notebooks/data_table.ipynb>data table notebook</a>'\n",
              "            + ' to learn more about interactive tables.';\n",
              "          element.innerHTML = '';\n",
              "          dataTable['output_type'] = 'display_data';\n",
              "          await google.colab.output.renderOutput(dataTable, element);\n",
              "          const docLink = document.createElement('div');\n",
              "          docLink.innerHTML = docLinkHtml;\n",
              "          element.appendChild(docLink);\n",
              "        }\n",
              "      </script>\n",
              "    </div>\n",
              "  </div>\n",
              "  "
            ]
          },
          "metadata": {},
          "execution_count": 6
        }
      ]
    },
    {
      "cell_type": "markdown",
      "source": [
        "Split raw dataset to train set and validation set"
      ],
      "metadata": {
        "id": "hbIjGX9OAhNg"
      }
    },
    {
      "cell_type": "code",
      "source": [
        "msk = np.random.rand(len(df)) < 0.8\n",
        "train = df[msk]\n",
        "valid = df[~msk]"
      ],
      "metadata": {
        "id": "ejrdXxr1Ad4D"
      },
      "execution_count": 7,
      "outputs": []
    },
    {
      "cell_type": "markdown",
      "source": [
        "Check data whether it is balanced or not"
      ],
      "metadata": {
        "id": "oZZAxMqXArII"
      }
    },
    {
      "cell_type": "code",
      "source": [
        "for i in range(2):\n",
        "  samples=train[train['label']==i]\n",
        "  print(f'label: {i}\\thas {len(samples)} samples')"
      ],
      "metadata": {
        "colab": {
          "base_uri": "https://localhost:8080/"
        },
        "id": "LVcVzxsfApgI",
        "outputId": "23e06db3-261b-4338-9870-0961681107cb"
      },
      "execution_count": 8,
      "outputs": [
        {
          "output_type": "stream",
          "name": "stdout",
          "text": [
            "label: 0\thas 8329 samples\n",
            "label: 1\thas 8366 samples\n"
          ]
        }
      ]
    },
    {
      "cell_type": "code",
      "source": [
        "for i in range(2):\n",
        "  samples=valid[valid['label']==i]\n",
        "  print(f'label: {i}\\thas {len(samples)} samples')"
      ],
      "metadata": {
        "colab": {
          "base_uri": "https://localhost:8080/"
        },
        "id": "DhFI45UWAu6Y",
        "outputId": "64c755c0-f73a-4139-d973-e8cad50efe05"
      },
      "execution_count": 9,
      "outputs": [
        {
          "output_type": "stream",
          "name": "stdout",
          "text": [
            "label: 0\thas 2058 samples\n",
            "label: 1\thas 2008 samples\n"
          ]
        }
      ]
    },
    {
      "cell_type": "code",
      "source": [
        "train.to_csv(join(fake_news_dataset_path,\"train.csv\"),index=False)"
      ],
      "metadata": {
        "id": "JNq6_fwUJFqC"
      },
      "execution_count": 10,
      "outputs": []
    },
    {
      "cell_type": "code",
      "source": [
        "valid.to_csv(join(fake_news_dataset_path,\"valid.csv\"),index=False)"
      ],
      "metadata": {
        "id": "UuCzxPe8JV5_"
      },
      "execution_count": 11,
      "outputs": []
    },
    {
      "cell_type": "markdown",
      "source": [
        "# Clean and preprocessing"
      ],
      "metadata": {
        "id": "BAzdSQKbCuGh"
      }
    },
    {
      "cell_type": "markdown",
      "source": [
        "##Basic clean data"
      ],
      "metadata": {
        "id": "CUzD_fGcA6_j"
      }
    },
    {
      "cell_type": "code",
      "source": [
        "train=pd.read_csv(join(fake_news_dataset_path,\"train.csv\"),index_col=False)\n",
        "valid=pd.read_csv(join(fake_news_dataset_path,\"valid.csv\"),index_col=False)\n"
      ],
      "metadata": {
        "id": "QOS7rpJxJb6u"
      },
      "execution_count": 15,
      "outputs": []
    },
    {
      "cell_type": "code",
      "source": [
        "\"\"\"This function is from The Stanford Question Answering Dataset evaluate\"\"\"\n",
        "def normalize(s):\n",
        "  \"\"\"Lower text and remove punctuation, articles and extra whitespace.\"\"\"\n",
        "  def remove_articles(text):\n",
        "    regex = re.compile(r'\\b(a|an|the)\\b', re.UNICODE)\n",
        "    return re.sub(regex, ' ', text)\n",
        "  def white_space_fix(text):\n",
        "    return ' '.join(text.split())\n",
        "  def remove_punc(text):\n",
        "    exclude = set(string.punctuation)\n",
        "    return ''.join(ch for ch in text if ch not in exclude)\n",
        "  return white_space_fix(remove_articles(remove_punc(s))).strip()"
      ],
      "metadata": {
        "id": "kRAJivmzAw63"
      },
      "execution_count": 16,
      "outputs": []
    },
    {
      "cell_type": "code",
      "source": [
        "train['text']=train['text'].map(normalize)"
      ],
      "metadata": {
        "id": "orxmlLoQBCnR"
      },
      "execution_count": 17,
      "outputs": []
    },
    {
      "cell_type": "code",
      "source": [
        "valid['text']=valid['text'].map(normalize)"
      ],
      "metadata": {
        "id": "uYFoSiHvBT5G"
      },
      "execution_count": 18,
      "outputs": []
    },
    {
      "cell_type": "code",
      "source": [
        "train=train[train['text']!=\"\"]\n",
        "valid=valid[valid['text']!=\"\"]"
      ],
      "metadata": {
        "id": "1RBiCqT0q1K_"
      },
      "execution_count": 19,
      "outputs": []
    },
    {
      "cell_type": "code",
      "source": [
        "train.to_csv(join(model_path,\"train.csv\"),index=False)\n",
        "valid.to_csv(join(model_path,\"valid.csv\"),index=False)"
      ],
      "metadata": {
        "id": "mTGCXWX2BVuJ"
      },
      "execution_count": 21,
      "outputs": []
    },
    {
      "cell_type": "markdown",
      "source": [
        "##Preprocessing"
      ],
      "metadata": {
        "id": "esjMk9USCoDq"
      }
    },
    {
      "cell_type": "code",
      "source": [
        "train=pd.read_csv(join(model_path,\"train.csv\"),index_col=False)\n",
        "valid=pd.read_csv(join(model_path,\"valid.csv\"),index_col=False)"
      ],
      "metadata": {
        "id": "SiZYDF35C_yt"
      },
      "execution_count": 22,
      "outputs": []
    },
    {
      "cell_type": "code",
      "source": [
        "tokenizer = AutoTokenizer.from_pretrained(name)"
      ],
      "metadata": {
        "id": "_SvmbXllCgKc"
      },
      "execution_count": 23,
      "outputs": []
    },
    {
      "cell_type": "code",
      "source": [
        "max_length=512\n",
        "return_tensors='tf'"
      ],
      "metadata": {
        "id": "lfuVLNgoCxk8"
      },
      "execution_count": 24,
      "outputs": []
    },
    {
      "cell_type": "code",
      "source": [
        "x_train=tokenizer(train['text'].tolist() ,padding=True,truncation=True,max_length=max_length,return_tensors=return_tensors)"
      ],
      "metadata": {
        "id": "nNrd2kO4C3a8"
      },
      "execution_count": 25,
      "outputs": []
    },
    {
      "cell_type": "code",
      "source": [
        "y_train=tf.convert_to_tensor(train['label'],dtype=tf.int32)"
      ],
      "metadata": {
        "id": "Hpz-TB2aC5yj"
      },
      "execution_count": 26,
      "outputs": []
    },
    {
      "cell_type": "code",
      "source": [
        "train_dataset={i:x_train[i] for i in x_train}\n",
        "train_dataset.update({\"labels\":y_train})"
      ],
      "metadata": {
        "id": "1fPP57abDF8s"
      },
      "execution_count": 27,
      "outputs": []
    },
    {
      "cell_type": "code",
      "source": [
        "train_dataset=tf.data.Dataset.from_tensor_slices(train_dataset)"
      ],
      "metadata": {
        "id": "b2vQyuwUzXkv"
      },
      "execution_count": 28,
      "outputs": []
    },
    {
      "cell_type": "code",
      "source": [
        "train_batch_size=8\n",
        "num_training_samples=len(train)\n",
        "num_training_batches=int((num_training_samples/train_batch_size)+0.5)\n",
        "train_dataset=train_dataset.batch(train_batch_size, drop_remainder=True)"
      ],
      "metadata": {
        "id": "r9n4dOZiDHq7"
      },
      "execution_count": 29,
      "outputs": []
    },
    {
      "cell_type": "markdown",
      "source": [
        "Valid set"
      ],
      "metadata": {
        "id": "jXNjrvjcDRk5"
      }
    },
    {
      "cell_type": "code",
      "source": [
        "x_valid=tokenizer(valid['text'].tolist() ,padding=True,truncation=True,max_length=max_length,return_tensors=return_tensors)"
      ],
      "metadata": {
        "id": "fEJKd4oIDK0S"
      },
      "execution_count": 30,
      "outputs": []
    },
    {
      "cell_type": "code",
      "source": [
        "y_valid=tf.convert_to_tensor(valid['label'],dtype=tf.int32)"
      ],
      "metadata": {
        "id": "lHMKlvJ7DUbU"
      },
      "execution_count": 31,
      "outputs": []
    },
    {
      "cell_type": "code",
      "source": [
        "valid_dataset={i:x_valid[i] for i in x_valid}\n",
        "valid_dataset.update({\"labels\":y_valid})\n",
        "valid_dataset=tf.data.Dataset.from_tensor_slices(valid_dataset)"
      ],
      "metadata": {
        "id": "pMTuSLM_DU2V"
      },
      "execution_count": 32,
      "outputs": []
    },
    {
      "cell_type": "code",
      "source": [
        "valid_batch_size=8\n",
        "num_valid_samples=len(valid)\n",
        "num_valid_batches=int((num_valid_samples/valid_batch_size)+0.5)\n",
        "valid_dataset=valid_dataset.batch(valid_batch_size, drop_remainder=True)"
      ],
      "metadata": {
        "id": "L43qr2JqDV4q"
      },
      "execution_count": 33,
      "outputs": []
    },
    {
      "cell_type": "markdown",
      "source": [
        "# Train"
      ],
      "metadata": {
        "id": "o6wI3JQxDurD"
      }
    },
    {
      "cell_type": "code",
      "source": [
        "epochs=5\n",
        "lr=5e-5\n",
        "num_warmup_steps=5000"
      ],
      "metadata": {
        "id": "c2uXomC6DWlc"
      },
      "execution_count": 34,
      "outputs": []
    },
    {
      "cell_type": "code",
      "source": [
        "optimizer, schedule = create_optimizer(\n",
        "    init_lr=lr, num_warmup_steps=num_warmup_steps, num_train_steps=num_training_samples*epochs\n",
        ")"
      ],
      "metadata": {
        "id": "ikH7XDCMDhBy"
      },
      "execution_count": 35,
      "outputs": []
    },
    {
      "cell_type": "code",
      "source": [
        "loss_fn = tf.keras.losses.SparseCategoricalCrossentropy(from_logits=False)"
      ],
      "metadata": {
        "id": "y6UvLMgdDnxy"
      },
      "execution_count": 36,
      "outputs": []
    },
    {
      "cell_type": "markdown",
      "source": [
        "Load the pretrained model"
      ],
      "metadata": {
        "id": "wxyOlN_JDy9T"
      }
    },
    {
      "cell_type": "code",
      "source": [
        "num_labels=len(train['label'].unique())\n",
        "config = AutoConfig.from_pretrained(name)\n",
        "config.num_labels=num_labels\n",
        "model = TFAutoModelForSequenceClassification.from_pretrained(name,config=config)"
      ],
      "metadata": {
        "colab": {
          "base_uri": "https://localhost:8080/"
        },
        "id": "c3gw7JkyDrnR",
        "outputId": "5fc4a62e-3012-4d5b-9cfa-417214e3bf84"
      },
      "execution_count": 37,
      "outputs": [
        {
          "output_type": "stream",
          "name": "stderr",
          "text": [
            "Some layers from the model checkpoint at distilbert-base-uncased were not used when initializing TFDistilBertForSequenceClassification: ['vocab_layer_norm', 'activation_13', 'vocab_projector', 'vocab_transform']\n",
            "- This IS expected if you are initializing TFDistilBertForSequenceClassification from the checkpoint of a model trained on another task or with another architecture (e.g. initializing a BertForSequenceClassification model from a BertForPreTraining model).\n",
            "- This IS NOT expected if you are initializing TFDistilBertForSequenceClassification from the checkpoint of a model that you expect to be exactly identical (initializing a BertForSequenceClassification model from a BertForSequenceClassification model).\n",
            "Some layers of TFDistilBertForSequenceClassification were not initialized from the model checkpoint at distilbert-base-uncased and are newly initialized: ['classifier', 'pre_classifier', 'dropout_19']\n",
            "You should probably TRAIN this model on a down-stream task to be able to use it for predictions and inference.\n"
          ]
        }
      ]
    },
    {
      "cell_type": "code",
      "source": [
        "model.base_model_prefix"
      ],
      "metadata": {
        "colab": {
          "base_uri": "https://localhost:8080/",
          "height": 35
        },
        "id": "1gZEySNMMrf-",
        "outputId": "72ee0f4c-08d1-4baf-9a48-7f9825d004ab"
      },
      "execution_count": 38,
      "outputs": [
        {
          "output_type": "execute_result",
          "data": {
            "text/plain": [
              "'distilbert'"
            ],
            "application/vnd.google.colaboratory.intrinsic+json": {
              "type": "string"
            }
          },
          "metadata": {},
          "execution_count": 38
        }
      ]
    },
    {
      "cell_type": "markdown",
      "source": [
        "Define train_step function for training"
      ],
      "metadata": {
        "id": "WZAXIqb6EPt4"
      }
    },
    {
      "cell_type": "markdown",
      "source": [
        "For token_type_ids"
      ],
      "metadata": {
        "id": "oViTQMo5NubT"
      }
    },
    {
      "cell_type": "code",
      "source": [
        "train_step_signature1=[\n",
        "    tf.TensorSpec(shape=(None, None), dtype=tf.int32),\n",
        "    tf.TensorSpec(shape=(None, None), dtype=tf.int32),\n",
        "    tf.TensorSpec(shape=(None, None), dtype=tf.int32),\n",
        "    tf.TensorSpec(shape=(None, ), dtype=tf.int32),\n",
        "]\n",
        "\n",
        "@tf.function(input_signature=train_step_signature1)\n",
        "def train_step1(input_ids, attention_mask,token_type_ids,labels):\n",
        "  \n",
        "\n",
        "  with tf.GradientTape() as tape:\n",
        "\n",
        "    outputs= model(input_ids=input_ids,attention_mask=attention_mask,token_type_ids=token_type_ids,training = True)\n",
        "\n",
        "    probs=tf.nn.softmax(outputs.logits,axis=1)\n",
        "    preds=tf.argmax(probs,axis=1)\n",
        "    loss = loss_fn(labels, probs)\n",
        "\n",
        "  gradients = tape.gradient(loss, model.trainable_variables)\n",
        "  optimizer.apply_gradients(zip(gradients, model.trainable_variables))\n",
        "  return loss,preds"
      ],
      "metadata": {
        "id": "0WVOZMUTNoth"
      },
      "execution_count": 39,
      "outputs": []
    },
    {
      "cell_type": "markdown",
      "source": [
        "For not token_type_ids"
      ],
      "metadata": {
        "id": "rTJmgMKgOFAi"
      }
    },
    {
      "cell_type": "code",
      "source": [
        "train_step_signature2= [\n",
        "    tf.TensorSpec(shape=(None, None), dtype=tf.int32),\n",
        "    tf.TensorSpec(shape=(None, None), dtype=tf.int32),\n",
        "    tf.TensorSpec(shape=(None, ), dtype=tf.int32),\n",
        "]\n",
        "\n",
        "\n",
        "@tf.function(input_signature=train_step_signature2)\n",
        "def train_step2(input_ids, attention_mask,labels):\n",
        "  \n",
        "\n",
        "  with tf.GradientTape() as tape:\n",
        "\n",
        "    outputs= model(input_ids=input_ids,attention_mask=attention_mask,training = True)\n",
        "\n",
        "    probs=tf.nn.softmax(outputs.logits,axis=1)\n",
        "    preds=tf.argmax(probs,axis=1)\n",
        "    loss = loss_fn(labels, probs)\n",
        "\n",
        "  gradients = tape.gradient(loss, model.trainable_variables)\n",
        "  optimizer.apply_gradients(zip(gradients, model.trainable_variables))\n",
        "  return loss,preds"
      ],
      "metadata": {
        "id": "RRa9juLJDw6h"
      },
      "execution_count": 40,
      "outputs": []
    },
    {
      "cell_type": "markdown",
      "source": [
        "Defind test_step function for validation"
      ],
      "metadata": {
        "id": "bUkDJaa1EUUD"
      }
    },
    {
      "cell_type": "code",
      "source": [
        "def test_step(input_ids, attention_mask,token_type_ids,labels):\n",
        "  \n",
        "  if token_type_ids is None:\n",
        "    outputs= model(input_ids=input_ids,attention_mask=attention_mask,training = False)\n",
        "  else:\n",
        "    outputs= model(input_ids=input_ids,attention_mask=attention_mask,token_type_ids=token_type_ids,training = False)\n",
        "\n",
        "  probs=tf.nn.softmax(outputs.logits,axis=1)\n",
        "  preds=tf.argmax(probs,axis=1)\n",
        "  loss = loss_fn(labels, probs)\n",
        "\n",
        "  return loss,preds"
      ],
      "metadata": {
        "id": "mT0Bb2sCETGF"
      },
      "execution_count": 41,
      "outputs": []
    },
    {
      "cell_type": "code",
      "source": [
        "ckpt_path = model_path\n",
        "max_to_keep=5\n",
        "\n",
        "ckpt = tf.train.Checkpoint(model=model,\n",
        "                           optimizer=optimizer)\n",
        "\n",
        "ckpt_manager = tf.train.CheckpointManager(ckpt, ckpt_path, max_to_keep=max_to_keep)\n",
        "\n",
        "# if a checkpoint exists, restore the latest checkpoint.\n",
        "if ckpt_manager.latest_checkpoint:\n",
        "  ckpt.restore(ckpt_manager.latest_checkpoint)\n",
        "  print(f'Loading the latest checkpoint from {ckpt_manager.latest_checkpoint}')\n",
        "else:\n",
        "  print('Initializing the new checkpoint')"
      ],
      "metadata": {
        "colab": {
          "base_uri": "https://localhost:8080/"
        },
        "id": "qqOye2D2Ebo5",
        "outputId": "8d8edf51-9839-476b-88bc-7fb446030eb0"
      },
      "execution_count": 42,
      "outputs": [
        {
          "output_type": "stream",
          "name": "stdout",
          "text": [
            "Initializing the new checkpoint\n"
          ]
        }
      ]
    },
    {
      "cell_type": "code",
      "source": [
        "threshold=1e-6"
      ],
      "metadata": {
        "id": "1I0IVESDEneQ"
      },
      "execution_count": 43,
      "outputs": []
    },
    {
      "cell_type": "markdown",
      "source": [
        "Train"
      ],
      "metadata": {
        "id": "vAlB3x8gH9LD"
      }
    },
    {
      "cell_type": "code",
      "source": [
        "def run_step(input_ids,attention_mask,token_type_ids,labels,session='train'):\n",
        "  if session=='train':\n",
        "    if model.base_model_prefix in ['distilbert']:\n",
        "      return train_step2(input_ids,attention_mask,labels)\n",
        "    else:\n",
        "      return train_step1(input_ids,attention_mask,token_type_ids,labels)\n",
        "  else:\n",
        "    return test_step(input_ids,attention_mask,token_type_ids,labels)\n"
      ],
      "metadata": {
        "id": "WNNJE0KXP9id"
      },
      "execution_count": 44,
      "outputs": []
    },
    {
      "cell_type": "code",
      "source": [
        "def step(dataset,session='train'):\n",
        "  \n",
        "  loop = tqdm(dataset)\n",
        "  loss=0\n",
        "  y_true=[]\n",
        "  y_pred=[]\n",
        "  num_batches=len(dataset)\n",
        "  for batch in dataset:\n",
        "\n",
        "    input_ids=batch['input_ids']\n",
        "    attention_mask=batch['attention_mask'] if 'attention_mask' in batch else None\n",
        "    token_type_ids=batch['token_type_ids'] if 'token_type_ids' in batch else None\n",
        "    labels=batch['labels']\n",
        "\n",
        "    _loss,preds=run_step(input_ids=input_ids,attention_mask=attention_mask,token_type_ids=token_type_ids,labels=labels,session=session)\n",
        "\n",
        "    y_true.append(batch['labels'])\n",
        "    y_pred.append(preds)\n",
        "    _loss=_loss.numpy()\n",
        "    loss+=loss\n",
        "    num_batches+=1\n",
        "    loop.set_postfix({'train_loss_per_batch':_loss})\n",
        "    loop.update()\n",
        "\n",
        "  y_true=tf.concat(y_true,axis=0)\n",
        "  y_pred=tf.concat(y_pred,axis=0)\n",
        "  acc=f1_score(y_true,y_pred)\n",
        "  loss=loss/num_batches\n",
        "  return acc,loss"
      ],
      "metadata": {
        "id": "BsqDK_Lm6RWw"
      },
      "execution_count": 45,
      "outputs": []
    },
    {
      "cell_type": "code",
      "source": [
        "min_loss=np.inf\n",
        "for epoch in range(epochs):\n",
        "\n",
        "  \"\"\"TRAINING\"\"\"\n",
        "  train_acc,train_loss=step(train_dataset)\n",
        "\n",
        "  \"\"\"Validation\"\"\"\n",
        "  valid_acc,valid_loss=step(valid_dataset,session='valid')\n",
        "  \n",
        "  print(f'epoch: {epoch} train_loss: {train_loss} train_acc :{train_acc} valid_loss: {valid_loss} valid_acc :{valid_acc}')\n",
        "  if tf.abs(min_loss-valid_loss)>threshold and min_loss>valid_loss:\n",
        "    ckpt_save_path = ckpt_manager.save()\n",
        "    print(f'Saving checkpoint for epoch {epoch} at {ckpt_save_path}')\n",
        "    min_loss=valid_loss"
      ],
      "metadata": {
        "colab": {
          "base_uri": "https://localhost:8080/",
          "height": 49,
          "referenced_widgets": [
            "34756d23c1934b769b3ddcf60418666b",
            "8cf07405d0da494e93d81d3f2c1ab984",
            "7868a4db73eb42d7a7a4d2f6b0eca2ef",
            "53099efe13854f979d30b9b55f43e29c",
            "a38e3bbd88cc45509a3aae1c93795f6a",
            "d287f001e9ee4443b96ade1d86fe1e0c",
            "d94bd9ca8e62412d8fcb9e72bca4caf2",
            "dcb065af3180464b89408d9b789e64f0",
            "8688d2eba0fb426f9f98323aa865be2b",
            "466054b463404518a03bd0b00d6465fa",
            "56b6758cd1974af691219f67ef978073"
          ]
        },
        "id": "X43PMTaH9jks",
        "outputId": "81d13f0d-8419-46e9-f625-4ee9c5d3cbdd"
      },
      "execution_count": null,
      "outputs": [
        {
          "output_type": "display_data",
          "data": {
            "text/plain": [
              "  0%|          | 0/2079 [00:00<?, ?it/s]"
            ],
            "application/vnd.jupyter.widget-view+json": {
              "version_major": 2,
              "version_minor": 0,
              "model_id": "34756d23c1934b769b3ddcf60418666b"
            }
          },
          "metadata": {}
        }
      ]
    },
    {
      "cell_type": "markdown",
      "source": [
        "# Inferencing"
      ],
      "metadata": {
        "id": "5YSvfTmcc0pz"
      }
    },
    {
      "cell_type": "markdown",
      "source": [
        "Load test set"
      ],
      "metadata": {
        "id": "rOmGPSh3c_Uj"
      }
    },
    {
      "cell_type": "code",
      "source": [
        "test=pd.read_csv(\"/content/test.csv\")"
      ],
      "metadata": {
        "id": "B5Hh4751JtMI"
      },
      "execution_count": 6,
      "outputs": []
    },
    {
      "cell_type": "code",
      "source": [
        "submit=pd.read_csv(\"/content/submit.csv\")\n",
        "labels=tf.convert_to_tensor(submit['label'],dtype=tf.float32)"
      ],
      "metadata": {
        "id": "0hhrpCwkc5q_"
      },
      "execution_count": 7,
      "outputs": []
    },
    {
      "cell_type": "code",
      "source": [
        "test['text']=test['text'].astype(str).map(normalize)"
      ],
      "metadata": {
        "id": "DQBLzC3-c62I"
      },
      "execution_count": 8,
      "outputs": []
    },
    {
      "cell_type": "code",
      "source": [
        "samples=test['text'].tolist()"
      ],
      "metadata": {
        "id": "dCxr6E5nc7-Y"
      },
      "execution_count": 9,
      "outputs": []
    },
    {
      "cell_type": "code",
      "source": [
        "num_labels=len(submit['label'].unique())\n",
        "num_labels"
      ],
      "metadata": {
        "colab": {
          "base_uri": "https://localhost:8080/"
        },
        "id": "A-xSj2zRdbwF",
        "outputId": "0b6241ba-d662-48ae-e1c7-20d2ddcc0111"
      },
      "execution_count": 10,
      "outputs": [
        {
          "output_type": "execute_result",
          "data": {
            "text/plain": [
              "2"
            ]
          },
          "metadata": {},
          "execution_count": 10
        }
      ]
    },
    {
      "cell_type": "markdown",
      "source": [
        "Load model"
      ],
      "metadata": {
        "id": "hxuQEC_GdBxx"
      }
    },
    {
      "cell_type": "code",
      "source": [
        "from transformers import AutoConfig\n",
        "config = AutoConfig.from_pretrained(name)\n",
        "config.num_labels=num_labels"
      ],
      "metadata": {
        "id": "c7FzoZPec9D-"
      },
      "execution_count": 11,
      "outputs": []
    },
    {
      "cell_type": "code",
      "source": [
        "model=TFAutoModelForSequenceClassification.from_pretrained(name,config=config)"
      ],
      "metadata": {
        "colab": {
          "base_uri": "https://localhost:8080/"
        },
        "id": "OzoLQXEWdHlG",
        "outputId": "31c5fe55-615c-499e-b754-efc834324c7b"
      },
      "execution_count": 12,
      "outputs": [
        {
          "output_type": "stream",
          "name": "stderr",
          "text": [
            "All model checkpoint layers were used when initializing TFBertForSequenceClassification.\n",
            "\n",
            "Some layers of TFBertForSequenceClassification were not initialized from the model checkpoint at bert-base-uncased and are newly initialized: ['classifier']\n",
            "You should probably TRAIN this model on a down-stream task to be able to use it for predictions and inference.\n"
          ]
        }
      ]
    },
    {
      "cell_type": "code",
      "source": [
        "model.num_labels"
      ],
      "metadata": {
        "colab": {
          "base_uri": "https://localhost:8080/"
        },
        "id": "c4QiUVKPfnrL",
        "outputId": "7e5f58c2-f4e5-4d70-ea45-4ba3544d8cc3"
      },
      "execution_count": 13,
      "outputs": [
        {
          "output_type": "execute_result",
          "data": {
            "text/plain": [
              "2"
            ]
          },
          "metadata": {},
          "execution_count": 13
        }
      ]
    },
    {
      "cell_type": "code",
      "source": [
        "max_length=512\n",
        "return_tensors='tf'\n",
        "tokenizer = AutoTokenizer.from_pretrained(name)"
      ],
      "metadata": {
        "id": "NyXUwJIMh1AL"
      },
      "execution_count": 14,
      "outputs": []
    },
    {
      "cell_type": "markdown",
      "source": [
        "Load the weights"
      ],
      "metadata": {
        "id": "uGD3d3uOdnfV"
      }
    },
    {
      "cell_type": "code",
      "source": [
        "ckpt_path = model_path\n",
        "max_to_keep=5\n",
        "\n",
        "ckpt = tf.train.Checkpoint(model=model)\n",
        "\n",
        "ckpt_manager = tf.train.CheckpointManager(ckpt, ckpt_path, max_to_keep=max_to_keep)\n",
        "\n",
        "# if a checkpoint exists, restore the latest checkpoint.\n",
        "if ckpt_manager.latest_checkpoint:\n",
        "  ckpt.restore(ckpt_manager.latest_checkpoint)\n",
        "  print(f'Loading the latest checkpoint from {ckpt_manager.latest_checkpoint}')\n",
        "else:\n",
        "  print('Initializing the new checkpoint')"
      ],
      "metadata": {
        "colab": {
          "base_uri": "https://localhost:8080/"
        },
        "id": "bFBZizjUdjI1",
        "outputId": "82140d71-289d-46e3-a2ba-c53ce5133f1e"
      },
      "execution_count": 15,
      "outputs": [
        {
          "output_type": "stream",
          "name": "stdout",
          "text": [
            "Loading the latest checkpoint from /content/drive/MyDrive/fake_news/models/bert-base-uncased/ckpt-1\n"
          ]
        }
      ]
    },
    {
      "cell_type": "code",
      "source": [
        "y_pred=[]\n",
        "loop = tqdm(range(len(samples)))\n",
        "for idx,sample in enumerate(samples):\n",
        "  inputs=tokenizer(sample,padding=True,truncation=True,max_length=max_length,return_tensors=return_tensors)\n",
        "  outputs=model(**inputs,training=False)\n",
        "  prob=tf.nn.softmax(outputs.logits,axis=1)\n",
        "  preds=tf.argmax(prob,axis=1)\n",
        "  y_pred.append(preds)\n",
        "  loop.update()\n"
      ],
      "metadata": {
        "colab": {
          "base_uri": "https://localhost:8080/"
        },
        "id": "cherwcLmdqZG",
        "outputId": "2542ac7e-d0d9-4623-db83-72769983d7f9"
      },
      "execution_count": 16,
      "outputs": [
        {
          "output_type": "stream",
          "name": "stderr",
          "text": [
            "100%|██████████| 5200/5200 [15:35<00:00,  5.74it/s]"
          ]
        }
      ]
    },
    {
      "cell_type": "code",
      "source": [
        "y_pred=tf.convert_to_tensor(y_pred)"
      ],
      "metadata": {
        "id": "UjCCpNrMduON"
      },
      "execution_count": 17,
      "outputs": []
    },
    {
      "cell_type": "code",
      "source": [
        "y_pred=tf.reshape(y_pred,shape=(y_pred.shape[0],))\n",
        "y_pred"
      ],
      "metadata": {
        "colab": {
          "base_uri": "https://localhost:8080/"
        },
        "id": "svR_v3dRmqAH",
        "outputId": "c9a85fdd-3b69-478e-800e-a3e6e5bd893a"
      },
      "execution_count": 18,
      "outputs": [
        {
          "output_type": "execute_result",
          "data": {
            "text/plain": [
              "<tf.Tensor: shape=(5200,), dtype=int64, numpy=array([0, 1, 1, ..., 0, 1, 0])>"
            ]
          },
          "metadata": {},
          "execution_count": 18
        }
      ]
    },
    {
      "cell_type": "code",
      "source": [
        "labels"
      ],
      "metadata": {
        "colab": {
          "base_uri": "https://localhost:8080/"
        },
        "id": "B0hUW5oSmqXH",
        "outputId": "f90e2dee-ead3-4bfd-b052-b872c328c1c8"
      },
      "execution_count": 19,
      "outputs": [
        {
          "output_type": "execute_result",
          "data": {
            "text/plain": [
              "<tf.Tensor: shape=(5200,), dtype=float32, numpy=array([0., 1., 0., ..., 0., 1., 0.], dtype=float32)>"
            ]
          },
          "metadata": {},
          "execution_count": 19
        }
      ]
    },
    {
      "cell_type": "code",
      "source": [
        "f1_score(labels,y_pred,average='micro')"
      ],
      "metadata": {
        "colab": {
          "base_uri": "https://localhost:8080/"
        },
        "id": "8zyYVGQKmwtv",
        "outputId": "19408b4e-2800-431e-9484-43948e67869c"
      },
      "execution_count": 20,
      "outputs": [
        {
          "output_type": "execute_result",
          "data": {
            "text/plain": [
              "0.635576923076923"
            ]
          },
          "metadata": {},
          "execution_count": 20
        }
      ]
    },
    {
      "cell_type": "code",
      "source": [
        ""
      ],
      "metadata": {
        "id": "qGjBQi3Jm6Gi"
      },
      "execution_count": null,
      "outputs": []
    }
  ]
}