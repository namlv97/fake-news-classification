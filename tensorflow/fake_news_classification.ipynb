{
  "cells": [
    {
      "cell_type": "code",
      "execution_count": 1,
      "metadata": {
        "colab": {
          "base_uri": "https://localhost:8080/"
        },
        "id": "85dZy7u3_z24",
        "outputId": "8e4657a8-cb74-407a-e6f1-a834052564e6"
      },
      "outputs": [
        {
          "output_type": "stream",
          "name": "stdout",
          "text": [
            "Thu Apr 14 03:16:16 2022       \n",
            "+-----------------------------------------------------------------------------+\n",
            "| NVIDIA-SMI 460.32.03    Driver Version: 460.32.03    CUDA Version: 11.2     |\n",
            "|-------------------------------+----------------------+----------------------+\n",
            "| GPU  Name        Persistence-M| Bus-Id        Disp.A | Volatile Uncorr. ECC |\n",
            "| Fan  Temp  Perf  Pwr:Usage/Cap|         Memory-Usage | GPU-Util  Compute M. |\n",
            "|                               |                      |               MIG M. |\n",
            "|===============================+======================+======================|\n",
            "|   0  Tesla T4            Off  | 00000000:00:04.0 Off |                    0 |\n",
            "| N/A   36C    P8     9W /  70W |      0MiB / 15109MiB |      0%      Default |\n",
            "|                               |                      |                  N/A |\n",
            "+-------------------------------+----------------------+----------------------+\n",
            "                                                                               \n",
            "+-----------------------------------------------------------------------------+\n",
            "| Processes:                                                                  |\n",
            "|  GPU   GI   CI        PID   Type   Process name                  GPU Memory |\n",
            "|        ID   ID                                                   Usage      |\n",
            "|=============================================================================|\n",
            "|  No running processes found                                                 |\n",
            "+-----------------------------------------------------------------------------+\n"
          ]
        }
      ],
      "source": [
        "!nvidia-smi"
      ]
    },
    {
      "cell_type": "code",
      "execution_count": 2,
      "metadata": {
        "colab": {
          "base_uri": "https://localhost:8080/"
        },
        "id": "FR96MjxB_5mb",
        "outputId": "d3e31754-a258-4995-8636-29cf272dad7f"
      },
      "outputs": [
        {
          "output_type": "stream",
          "name": "stdout",
          "text": [
            "Mounted at /content/drive\n"
          ]
        }
      ],
      "source": [
        "from google.colab import drive\n",
        "drive.mount('/content/drive')"
      ]
    },
    {
      "cell_type": "code",
      "execution_count": 3,
      "metadata": {
        "colab": {
          "base_uri": "https://localhost:8080/"
        },
        "id": "QPpIKKVo__RP",
        "outputId": "8a4c5ec2-9c06-4e90-dec3-7ac397edb396"
      },
      "outputs": [
        {
          "output_type": "stream",
          "name": "stdout",
          "text": [
            "Collecting transformers\n",
            "  Downloading transformers-4.18.0-py3-none-any.whl (4.0 MB)\n",
            "\u001b[K     |████████████████████████████████| 4.0 MB 4.8 MB/s \n",
            "\u001b[?25hCollecting pyyaml>=5.1\n",
            "  Downloading PyYAML-6.0-cp37-cp37m-manylinux_2_5_x86_64.manylinux1_x86_64.manylinux_2_12_x86_64.manylinux2010_x86_64.whl (596 kB)\n",
            "\u001b[K     |████████████████████████████████| 596 kB 62.3 MB/s \n",
            "\u001b[?25hRequirement already satisfied: importlib-metadata in /usr/local/lib/python3.7/dist-packages (from transformers) (4.11.3)\n",
            "Requirement already satisfied: packaging>=20.0 in /usr/local/lib/python3.7/dist-packages (from transformers) (21.3)\n",
            "Requirement already satisfied: tqdm>=4.27 in /usr/local/lib/python3.7/dist-packages (from transformers) (4.64.0)\n",
            "Requirement already satisfied: numpy>=1.17 in /usr/local/lib/python3.7/dist-packages (from transformers) (1.21.5)\n",
            "Collecting sacremoses\n",
            "  Downloading sacremoses-0.0.49-py3-none-any.whl (895 kB)\n",
            "\u001b[K     |████████████████████████████████| 895 kB 59.5 MB/s \n",
            "\u001b[?25hRequirement already satisfied: filelock in /usr/local/lib/python3.7/dist-packages (from transformers) (3.6.0)\n",
            "Requirement already satisfied: regex!=2019.12.17 in /usr/local/lib/python3.7/dist-packages (from transformers) (2019.12.20)\n",
            "Collecting huggingface-hub<1.0,>=0.1.0\n",
            "  Downloading huggingface_hub-0.5.1-py3-none-any.whl (77 kB)\n",
            "\u001b[K     |████████████████████████████████| 77 kB 8.1 MB/s \n",
            "\u001b[?25hRequirement already satisfied: requests in /usr/local/lib/python3.7/dist-packages (from transformers) (2.23.0)\n",
            "Collecting tokenizers!=0.11.3,<0.13,>=0.11.1\n",
            "  Downloading tokenizers-0.12.1-cp37-cp37m-manylinux_2_12_x86_64.manylinux2010_x86_64.whl (6.6 MB)\n",
            "\u001b[K     |████████████████████████████████| 6.6 MB 49.2 MB/s \n",
            "\u001b[?25hRequirement already satisfied: typing-extensions>=3.7.4.3 in /usr/local/lib/python3.7/dist-packages (from huggingface-hub<1.0,>=0.1.0->transformers) (4.1.1)\n",
            "Requirement already satisfied: pyparsing!=3.0.5,>=2.0.2 in /usr/local/lib/python3.7/dist-packages (from packaging>=20.0->transformers) (3.0.8)\n",
            "Requirement already satisfied: zipp>=0.5 in /usr/local/lib/python3.7/dist-packages (from importlib-metadata->transformers) (3.8.0)\n",
            "Requirement already satisfied: certifi>=2017.4.17 in /usr/local/lib/python3.7/dist-packages (from requests->transformers) (2021.10.8)\n",
            "Requirement already satisfied: urllib3!=1.25.0,!=1.25.1,<1.26,>=1.21.1 in /usr/local/lib/python3.7/dist-packages (from requests->transformers) (1.24.3)\n",
            "Requirement already satisfied: chardet<4,>=3.0.2 in /usr/local/lib/python3.7/dist-packages (from requests->transformers) (3.0.4)\n",
            "Requirement already satisfied: idna<3,>=2.5 in /usr/local/lib/python3.7/dist-packages (from requests->transformers) (2.10)\n",
            "Requirement already satisfied: joblib in /usr/local/lib/python3.7/dist-packages (from sacremoses->transformers) (1.1.0)\n",
            "Requirement already satisfied: click in /usr/local/lib/python3.7/dist-packages (from sacremoses->transformers) (7.1.2)\n",
            "Requirement already satisfied: six in /usr/local/lib/python3.7/dist-packages (from sacremoses->transformers) (1.15.0)\n",
            "Installing collected packages: pyyaml, tokenizers, sacremoses, huggingface-hub, transformers\n",
            "  Attempting uninstall: pyyaml\n",
            "    Found existing installation: PyYAML 3.13\n",
            "    Uninstalling PyYAML-3.13:\n",
            "      Successfully uninstalled PyYAML-3.13\n",
            "Successfully installed huggingface-hub-0.5.1 pyyaml-6.0 sacremoses-0.0.49 tokenizers-0.12.1 transformers-4.18.0\n"
          ]
        }
      ],
      "source": [
        "!pip install transformers"
      ]
    },
    {
      "cell_type": "markdown",
      "metadata": {
        "id": "QN65nyyrXaFK"
      },
      "source": [
        "Read the following link to get kaggle.json https://www.kaggle.com/general/74235\n"
      ]
    },
    {
      "cell_type": "code",
      "execution_count": 4,
      "metadata": {
        "colab": {
          "base_uri": "https://localhost:8080/"
        },
        "id": "SomOt1-sAEyh",
        "outputId": "0105b346-9317-49a6-e028-bfc17f539204"
      },
      "outputs": [
        {
          "output_type": "execute_result",
          "data": {
            "text/plain": [
              ""
            ]
          },
          "metadata": {},
          "execution_count": 4
        }
      ],
      "source": [
        "%%shell\n",
        "mkdir ~/.kaggle\n",
        "cp kaggle.json ~/.kaggle/\n",
        "chmod 600 ~/.kaggle/kaggle.json"
      ]
    },
    {
      "cell_type": "code",
      "execution_count": 5,
      "metadata": {
        "colab": {
          "base_uri": "https://localhost:8080/"
        },
        "id": "b_szj3qtAK0F",
        "outputId": "d5191416-eaba-408e-b277-d84b61d05df8"
      },
      "outputs": [
        {
          "output_type": "stream",
          "name": "stdout",
          "text": [
            "Downloading fake-news.zip to /content\n",
            " 71% 33.0M/46.5M [00:00<00:00, 92.5MB/s]\n",
            "100% 46.5M/46.5M [00:00<00:00, 116MB/s] \n"
          ]
        }
      ],
      "source": [
        "!kaggle competitions download -c fake-news"
      ]
    },
    {
      "cell_type": "code",
      "execution_count": 6,
      "metadata": {
        "colab": {
          "base_uri": "https://localhost:8080/"
        },
        "id": "x8WBh6UzAE7M",
        "outputId": "4e0fef17-1f25-4852-a8ff-fc35fd256fc6"
      },
      "outputs": [
        {
          "output_type": "stream",
          "name": "stdout",
          "text": [
            "Archive:  /content/fake-news.zip\n",
            "  inflating: submit.csv              \n",
            "  inflating: test.csv                \n",
            "  inflating: train.csv               \n"
          ]
        }
      ],
      "source": [
        "!unzip /content/fake-news.zip"
      ]
    },
    {
      "cell_type": "code",
      "execution_count": 1,
      "metadata": {
        "id": "dyBAb1uZA0WO"
      },
      "outputs": [],
      "source": [
        "from tqdm.auto import tqdm\n",
        "import pandas as pd\n",
        "import tensorflow as tf\n",
        "import numpy as np\n",
        "import string\n",
        "import re\n",
        "from os.path import join\n",
        "import os\n",
        "from transformers import AutoTokenizer\n",
        "from transformers import TFAutoModelForSequenceClassification\n",
        "from transformers import create_optimizer\n",
        "from sklearn.metrics import f1_score\n",
        "from transformers import AutoConfig"
      ]
    },
    {
      "cell_type": "code",
      "execution_count": 2,
      "metadata": {
        "id": "PVpfuboYBZir"
      },
      "outputs": [],
      "source": [
        "fake_news_folder=\"fake_news\"\n",
        "fake_new_dataset=\"raw_dataset\"\n",
        "fake_new_models=\"models\"\n",
        "name=\"bert-base-uncased\""
      ]
    },
    {
      "cell_type": "code",
      "execution_count": 3,
      "metadata": {
        "id": "72BJIh7KB3Lg"
      },
      "outputs": [],
      "source": [
        "root_path=\"/content/drive/MyDrive\"\n",
        "fake_news_folder_path=join(root_path,fake_news_folder)\n",
        "fake_news_dataset_path=join(root_path,fake_news_folder,fake_new_dataset)\n",
        "fake_news_models_path=join(root_path,fake_news_folder,fake_new_models)\n",
        "model_path=f'{fake_news_models_path}/{name}/'"
      ]
    },
    {
      "cell_type": "code",
      "execution_count": 4,
      "metadata": {
        "id": "7gYTxLDaCTNV"
      },
      "outputs": [],
      "source": [
        "os.makedirs(model_path, exist_ok=True)\n",
        "os.makedirs(fake_news_dataset_path, exist_ok=True)"
      ]
    },
    {
      "cell_type": "markdown",
      "metadata": {
        "id": "-5VTtmBaAQt9"
      },
      "source": [
        "# Load fake news dataset from kaggle"
      ]
    },
    {
      "cell_type": "code",
      "execution_count": 13,
      "metadata": {
        "colab": {
          "base_uri": "https://localhost:8080/",
          "height": 424
        },
        "id": "pfagq27fAPap",
        "outputId": "2750c1eb-5cbb-4d33-8dd2-7a8f99907519"
      },
      "outputs": [
        {
          "output_type": "execute_result",
          "data": {
            "text/plain": [
              "                                                    text  label\n",
              "6740   (7 fans) - Advertisement - Amid mounting anger...      1\n",
              "5972   Facebook reportedly pays an army of Filipino c...      0\n",
              "7751   Our New Country: Women And Minorities Hit Hard...      1\n",
              "20440  A team of cartel gunmen began to fire indiscri...      0\n",
              "8656   \\nIn a truly shocking twist, the Supreme Court...      1\n",
              "...                                                  ...    ...\n",
              "14283  November 2, 2016 555 Russian and Turkish milit...      1\n",
              "11050  In 1995, furious over quality problems with on...      0\n",
              "14926  Braunschweiger Criminal Police chief Ulf Küche...      0\n",
              "1339   While ordinary Americans nationwide work on Th...      0\n",
              "15765  Email \\n\\nIn a report published by Turkish new...      1\n",
              "\n",
              "[20800 rows x 2 columns]"
            ],
            "text/html": [
              "\n",
              "  <div id=\"df-0e7b91ef-d8e6-413c-9d72-5d80b18cb654\">\n",
              "    <div class=\"colab-df-container\">\n",
              "      <div>\n",
              "<style scoped>\n",
              "    .dataframe tbody tr th:only-of-type {\n",
              "        vertical-align: middle;\n",
              "    }\n",
              "\n",
              "    .dataframe tbody tr th {\n",
              "        vertical-align: top;\n",
              "    }\n",
              "\n",
              "    .dataframe thead th {\n",
              "        text-align: right;\n",
              "    }\n",
              "</style>\n",
              "<table border=\"1\" class=\"dataframe\">\n",
              "  <thead>\n",
              "    <tr style=\"text-align: right;\">\n",
              "      <th></th>\n",
              "      <th>text</th>\n",
              "      <th>label</th>\n",
              "    </tr>\n",
              "  </thead>\n",
              "  <tbody>\n",
              "    <tr>\n",
              "      <th>6740</th>\n",
              "      <td>(7 fans) - Advertisement - Amid mounting anger...</td>\n",
              "      <td>1</td>\n",
              "    </tr>\n",
              "    <tr>\n",
              "      <th>5972</th>\n",
              "      <td>Facebook reportedly pays an army of Filipino c...</td>\n",
              "      <td>0</td>\n",
              "    </tr>\n",
              "    <tr>\n",
              "      <th>7751</th>\n",
              "      <td>Our New Country: Women And Minorities Hit Hard...</td>\n",
              "      <td>1</td>\n",
              "    </tr>\n",
              "    <tr>\n",
              "      <th>20440</th>\n",
              "      <td>A team of cartel gunmen began to fire indiscri...</td>\n",
              "      <td>0</td>\n",
              "    </tr>\n",
              "    <tr>\n",
              "      <th>8656</th>\n",
              "      <td>\\nIn a truly shocking twist, the Supreme Court...</td>\n",
              "      <td>1</td>\n",
              "    </tr>\n",
              "    <tr>\n",
              "      <th>...</th>\n",
              "      <td>...</td>\n",
              "      <td>...</td>\n",
              "    </tr>\n",
              "    <tr>\n",
              "      <th>14283</th>\n",
              "      <td>November 2, 2016 555 Russian and Turkish milit...</td>\n",
              "      <td>1</td>\n",
              "    </tr>\n",
              "    <tr>\n",
              "      <th>11050</th>\n",
              "      <td>In 1995, furious over quality problems with on...</td>\n",
              "      <td>0</td>\n",
              "    </tr>\n",
              "    <tr>\n",
              "      <th>14926</th>\n",
              "      <td>Braunschweiger Criminal Police chief Ulf Küche...</td>\n",
              "      <td>0</td>\n",
              "    </tr>\n",
              "    <tr>\n",
              "      <th>1339</th>\n",
              "      <td>While ordinary Americans nationwide work on Th...</td>\n",
              "      <td>0</td>\n",
              "    </tr>\n",
              "    <tr>\n",
              "      <th>15765</th>\n",
              "      <td>Email \\n\\nIn a report published by Turkish new...</td>\n",
              "      <td>1</td>\n",
              "    </tr>\n",
              "  </tbody>\n",
              "</table>\n",
              "<p>20800 rows × 2 columns</p>\n",
              "</div>\n",
              "      <button class=\"colab-df-convert\" onclick=\"convertToInteractive('df-0e7b91ef-d8e6-413c-9d72-5d80b18cb654')\"\n",
              "              title=\"Convert this dataframe to an interactive table.\"\n",
              "              style=\"display:none;\">\n",
              "        \n",
              "  <svg xmlns=\"http://www.w3.org/2000/svg\" height=\"24px\"viewBox=\"0 0 24 24\"\n",
              "       width=\"24px\">\n",
              "    <path d=\"M0 0h24v24H0V0z\" fill=\"none\"/>\n",
              "    <path d=\"M18.56 5.44l.94 2.06.94-2.06 2.06-.94-2.06-.94-.94-2.06-.94 2.06-2.06.94zm-11 1L8.5 8.5l.94-2.06 2.06-.94-2.06-.94L8.5 2.5l-.94 2.06-2.06.94zm10 10l.94 2.06.94-2.06 2.06-.94-2.06-.94-.94-2.06-.94 2.06-2.06.94z\"/><path d=\"M17.41 7.96l-1.37-1.37c-.4-.4-.92-.59-1.43-.59-.52 0-1.04.2-1.43.59L10.3 9.45l-7.72 7.72c-.78.78-.78 2.05 0 2.83L4 21.41c.39.39.9.59 1.41.59.51 0 1.02-.2 1.41-.59l7.78-7.78 2.81-2.81c.8-.78.8-2.07 0-2.86zM5.41 20L4 18.59l7.72-7.72 1.47 1.35L5.41 20z\"/>\n",
              "  </svg>\n",
              "      </button>\n",
              "      \n",
              "  <style>\n",
              "    .colab-df-container {\n",
              "      display:flex;\n",
              "      flex-wrap:wrap;\n",
              "      gap: 12px;\n",
              "    }\n",
              "\n",
              "    .colab-df-convert {\n",
              "      background-color: #E8F0FE;\n",
              "      border: none;\n",
              "      border-radius: 50%;\n",
              "      cursor: pointer;\n",
              "      display: none;\n",
              "      fill: #1967D2;\n",
              "      height: 32px;\n",
              "      padding: 0 0 0 0;\n",
              "      width: 32px;\n",
              "    }\n",
              "\n",
              "    .colab-df-convert:hover {\n",
              "      background-color: #E2EBFA;\n",
              "      box-shadow: 0px 1px 2px rgba(60, 64, 67, 0.3), 0px 1px 3px 1px rgba(60, 64, 67, 0.15);\n",
              "      fill: #174EA6;\n",
              "    }\n",
              "\n",
              "    [theme=dark] .colab-df-convert {\n",
              "      background-color: #3B4455;\n",
              "      fill: #D2E3FC;\n",
              "    }\n",
              "\n",
              "    [theme=dark] .colab-df-convert:hover {\n",
              "      background-color: #434B5C;\n",
              "      box-shadow: 0px 1px 3px 1px rgba(0, 0, 0, 0.15);\n",
              "      filter: drop-shadow(0px 1px 2px rgba(0, 0, 0, 0.3));\n",
              "      fill: #FFFFFF;\n",
              "    }\n",
              "  </style>\n",
              "\n",
              "      <script>\n",
              "        const buttonEl =\n",
              "          document.querySelector('#df-0e7b91ef-d8e6-413c-9d72-5d80b18cb654 button.colab-df-convert');\n",
              "        buttonEl.style.display =\n",
              "          google.colab.kernel.accessAllowed ? 'block' : 'none';\n",
              "\n",
              "        async function convertToInteractive(key) {\n",
              "          const element = document.querySelector('#df-0e7b91ef-d8e6-413c-9d72-5d80b18cb654');\n",
              "          const dataTable =\n",
              "            await google.colab.kernel.invokeFunction('convertToInteractive',\n",
              "                                                     [key], {});\n",
              "          if (!dataTable) return;\n",
              "\n",
              "          const docLinkHtml = 'Like what you see? Visit the ' +\n",
              "            '<a target=\"_blank\" href=https://colab.research.google.com/notebooks/data_table.ipynb>data table notebook</a>'\n",
              "            + ' to learn more about interactive tables.';\n",
              "          element.innerHTML = '';\n",
              "          dataTable['output_type'] = 'display_data';\n",
              "          await google.colab.output.renderOutput(dataTable, element);\n",
              "          const docLink = document.createElement('div');\n",
              "          docLink.innerHTML = docLinkHtml;\n",
              "          element.appendChild(docLink);\n",
              "        }\n",
              "      </script>\n",
              "    </div>\n",
              "  </div>\n",
              "  "
            ]
          },
          "metadata": {},
          "execution_count": 13
        }
      ],
      "source": [
        "df=pd.read_csv(\"/content/train.csv\",index_col=False)\n",
        "df=df.drop(['id','title','author'],axis=1)\n",
        "df=df.sample(frac=1)\n",
        "df"
      ]
    },
    {
      "cell_type": "markdown",
      "metadata": {
        "id": "hbIjGX9OAhNg"
      },
      "source": [
        "Split raw dataset to train set and validation set"
      ]
    },
    {
      "cell_type": "code",
      "execution_count": 14,
      "metadata": {
        "id": "ejrdXxr1Ad4D"
      },
      "outputs": [],
      "source": [
        "train=df.iloc[:-5200]\n",
        "valid=df.iloc[-5200:]"
      ]
    },
    {
      "cell_type": "code",
      "execution_count": 15,
      "metadata": {
        "colab": {
          "base_uri": "https://localhost:8080/"
        },
        "id": "_6NtP3uqkTVI",
        "outputId": "562a1222-e58b-410c-9814-e35ce25c5b07"
      },
      "outputs": [
        {
          "output_type": "execute_result",
          "data": {
            "text/plain": [
              "(15600, 5200)"
            ]
          },
          "metadata": {},
          "execution_count": 15
        }
      ],
      "source": [
        "len(train),len(valid)"
      ]
    },
    {
      "cell_type": "markdown",
      "metadata": {
        "id": "oZZAxMqXArII"
      },
      "source": [
        "Check data whether it is balanced or not"
      ]
    },
    {
      "cell_type": "code",
      "execution_count": 16,
      "metadata": {
        "colab": {
          "base_uri": "https://localhost:8080/"
        },
        "id": "LVcVzxsfApgI",
        "outputId": "6be04547-4cf3-4c7c-a174-1e4d5cad4150"
      },
      "outputs": [
        {
          "output_type": "stream",
          "name": "stdout",
          "text": [
            "label: 0\thas 7761 samples\n",
            "label: 1\thas 7839 samples\n"
          ]
        }
      ],
      "source": [
        "for i in range(2):\n",
        "  samples=train[train['label']==i]\n",
        "  print(f'label: {i}\\thas {len(samples)} samples')"
      ]
    },
    {
      "cell_type": "code",
      "execution_count": 17,
      "metadata": {
        "colab": {
          "base_uri": "https://localhost:8080/"
        },
        "id": "DhFI45UWAu6Y",
        "outputId": "3b49a0e9-b0e3-47a2-e5ca-1935934bb8b1"
      },
      "outputs": [
        {
          "output_type": "stream",
          "name": "stdout",
          "text": [
            "label: 0\thas 2626 samples\n",
            "label: 1\thas 2574 samples\n"
          ]
        }
      ],
      "source": [
        "for i in range(2):\n",
        "  samples=valid[valid['label']==i]\n",
        "  print(f'label: {i}\\thas {len(samples)} samples')"
      ]
    },
    {
      "cell_type": "code",
      "execution_count": 25,
      "metadata": {
        "id": "JNq6_fwUJFqC"
      },
      "outputs": [],
      "source": [
        "train.to_csv(join(fake_news_dataset_path,\"train.csv\"),index=False)"
      ]
    },
    {
      "cell_type": "code",
      "execution_count": 26,
      "metadata": {
        "id": "UuCzxPe8JV5_"
      },
      "outputs": [],
      "source": [
        "valid.to_csv(join(fake_news_dataset_path,\"valid.csv\"),index=False)"
      ]
    },
    {
      "cell_type": "markdown",
      "metadata": {
        "id": "BAzdSQKbCuGh"
      },
      "source": [
        "# Clean and preprocessing"
      ]
    },
    {
      "cell_type": "markdown",
      "metadata": {
        "id": "CUzD_fGcA6_j"
      },
      "source": [
        "##Basic clean data"
      ]
    },
    {
      "cell_type": "code",
      "execution_count": 27,
      "metadata": {
        "id": "QOS7rpJxJb6u"
      },
      "outputs": [],
      "source": [
        "train=pd.read_csv(join(fake_news_dataset_path,\"train.csv\"),index_col=False)\n",
        "train=train.dropna(subset=['label', 'text'])\n",
        "\n",
        "valid=pd.read_csv(join(fake_news_dataset_path,\"valid.csv\"),index_col=False)\n",
        "valid=valid.dropna(subset=['label', 'text'])\n"
      ]
    },
    {
      "cell_type": "code",
      "execution_count": 28,
      "metadata": {
        "id": "kRAJivmzAw63"
      },
      "outputs": [],
      "source": [
        "\"\"\"This function is from The Stanford Question Answering Dataset evaluate\"\"\"\n",
        "def normalize(s):\n",
        "  \"\"\"Lower text and remove punctuation, articles and extra whitespace.\"\"\"\n",
        "  def remove_articles(text):\n",
        "    regex = re.compile(r'\\b(a|an|the)\\b', re.UNICODE)\n",
        "    return re.sub(regex, ' ', text)\n",
        "  def white_space_fix(text):\n",
        "    return ' '.join(text.split())\n",
        "  def remove_punc(text):\n",
        "    exclude = set(string.punctuation)\n",
        "    return ''.join(ch for ch in text if ch not in exclude)\n",
        "  return white_space_fix(remove_articles(remove_punc(s))).strip()"
      ]
    },
    {
      "cell_type": "code",
      "execution_count": 29,
      "metadata": {
        "id": "orxmlLoQBCnR"
      },
      "outputs": [],
      "source": [
        "train['text']=train['text'].map(normalize)"
      ]
    },
    {
      "cell_type": "code",
      "execution_count": 30,
      "metadata": {
        "id": "uYFoSiHvBT5G"
      },
      "outputs": [],
      "source": [
        "valid['text']=valid['text'].map(normalize)"
      ]
    },
    {
      "cell_type": "code",
      "execution_count": 31,
      "metadata": {
        "id": "1RBiCqT0q1K_"
      },
      "outputs": [],
      "source": [
        "train=train[train['text']!=\"\"]\n",
        "valid=valid[valid['text']!=\"\"]"
      ]
    },
    {
      "cell_type": "code",
      "execution_count": 32,
      "metadata": {
        "colab": {
          "base_uri": "https://localhost:8080/"
        },
        "id": "lCCN-PFJkw1v",
        "outputId": "14c402dd-9173-4783-d700-536e1ecea772"
      },
      "outputs": [
        {
          "output_type": "execute_result",
          "data": {
            "text/plain": [
              "(15513, 5171)"
            ]
          },
          "metadata": {},
          "execution_count": 32
        }
      ],
      "source": [
        "len(train),len(valid)"
      ]
    },
    {
      "cell_type": "code",
      "execution_count": 33,
      "metadata": {
        "id": "mTGCXWX2BVuJ"
      },
      "outputs": [],
      "source": [
        "train.to_csv(join(model_path,\"train.csv\"),index=False)\n",
        "valid.to_csv(join(model_path,\"valid.csv\"),index=False)"
      ]
    },
    {
      "cell_type": "markdown",
      "metadata": {
        "id": "esjMk9USCoDq"
      },
      "source": [
        "##Preprocessing"
      ]
    },
    {
      "cell_type": "code",
      "execution_count": 5,
      "metadata": {
        "id": "SiZYDF35C_yt"
      },
      "outputs": [],
      "source": [
        "train=pd.read_csv(join(model_path,\"train.csv\"),index_col=False)\n",
        "valid=pd.read_csv(join(model_path,\"valid.csv\"),index_col=False)"
      ]
    },
    {
      "cell_type": "code",
      "execution_count": 6,
      "metadata": {
        "id": "_SvmbXllCgKc"
      },
      "outputs": [],
      "source": [
        "tokenizer = AutoTokenizer.from_pretrained(name)"
      ]
    },
    {
      "cell_type": "code",
      "execution_count": 7,
      "metadata": {
        "id": "lfuVLNgoCxk8"
      },
      "outputs": [],
      "source": [
        "max_length=512\n",
        "return_tensors='tf'"
      ]
    },
    {
      "cell_type": "code",
      "execution_count": 8,
      "metadata": {
        "id": "nNrd2kO4C3a8"
      },
      "outputs": [],
      "source": [
        "x_train=tokenizer(train['text'].tolist() ,padding=True,truncation=True,max_length=max_length,return_tensors=return_tensors)"
      ]
    },
    {
      "cell_type": "code",
      "execution_count": 9,
      "metadata": {
        "id": "Hpz-TB2aC5yj"
      },
      "outputs": [],
      "source": [
        "y_train=tf.convert_to_tensor(train['label'],dtype=tf.int32)"
      ]
    },
    {
      "cell_type": "code",
      "execution_count": 10,
      "metadata": {
        "id": "1fPP57abDF8s"
      },
      "outputs": [],
      "source": [
        "train_dataset={i:x_train[i] for i in x_train}\n",
        "train_dataset.update({\"labels\":y_train})"
      ]
    },
    {
      "cell_type": "code",
      "execution_count": 11,
      "metadata": {
        "id": "b2vQyuwUzXkv"
      },
      "outputs": [],
      "source": [
        "train_dataset=tf.data.Dataset.from_tensor_slices(train_dataset)"
      ]
    },
    {
      "cell_type": "code",
      "execution_count": 12,
      "metadata": {
        "id": "r9n4dOZiDHq7"
      },
      "outputs": [],
      "source": [
        "train_batch_size=8\n",
        "num_training_samples=len(train)\n",
        "num_training_batches=int((num_training_samples/train_batch_size)+0.5)\n",
        "train_dataset=train_dataset.batch(train_batch_size, drop_remainder=True)"
      ]
    },
    {
      "cell_type": "markdown",
      "metadata": {
        "id": "jXNjrvjcDRk5"
      },
      "source": [
        "Valid set"
      ]
    },
    {
      "cell_type": "code",
      "execution_count": 13,
      "metadata": {
        "id": "fEJKd4oIDK0S"
      },
      "outputs": [],
      "source": [
        "x_valid=tokenizer(valid['text'].tolist() ,padding=True,truncation=True,max_length=max_length,return_tensors=return_tensors)"
      ]
    },
    {
      "cell_type": "code",
      "execution_count": 14,
      "metadata": {
        "id": "lHMKlvJ7DUbU"
      },
      "outputs": [],
      "source": [
        "y_valid=tf.convert_to_tensor(valid['label'],dtype=tf.int32)"
      ]
    },
    {
      "cell_type": "code",
      "execution_count": 15,
      "metadata": {
        "id": "pMTuSLM_DU2V"
      },
      "outputs": [],
      "source": [
        "valid_dataset={i:x_valid[i] for i in x_valid}\n",
        "valid_dataset.update({\"labels\":y_valid})\n",
        "valid_dataset=tf.data.Dataset.from_tensor_slices(valid_dataset)"
      ]
    },
    {
      "cell_type": "code",
      "execution_count": 16,
      "metadata": {
        "id": "L43qr2JqDV4q"
      },
      "outputs": [],
      "source": [
        "valid_batch_size=8\n",
        "num_valid_samples=len(valid)\n",
        "num_valid_batches=int((num_valid_samples/valid_batch_size)+0.5)\n",
        "valid_dataset=valid_dataset.batch(valid_batch_size, drop_remainder=True)"
      ]
    },
    {
      "cell_type": "markdown",
      "metadata": {
        "id": "o6wI3JQxDurD"
      },
      "source": [
        "# Train"
      ]
    },
    {
      "cell_type": "code",
      "execution_count": 27,
      "metadata": {
        "id": "c2uXomC6DWlc"
      },
      "outputs": [],
      "source": [
        "epochs=10\n",
        "num_train_steps =epochs*num_training_batches\n",
        "num_warmup_steps=5000\n",
        "lr=1e-5"
      ]
    },
    {
      "cell_type": "markdown",
      "metadata": {
        "id": "wxyOlN_JDy9T"
      },
      "source": [
        "Load the pretrained model"
      ]
    },
    {
      "cell_type": "code",
      "execution_count": 28,
      "metadata": {
        "colab": {
          "base_uri": "https://localhost:8080/"
        },
        "id": "c3gw7JkyDrnR",
        "outputId": "95adf573-2d5b-4036-855b-8d6c68cd39c1"
      },
      "outputs": [
        {
          "output_type": "stream",
          "name": "stderr",
          "text": [
            "All model checkpoint layers were used when initializing TFBertForSequenceClassification.\n",
            "\n",
            "Some layers of TFBertForSequenceClassification were not initialized from the model checkpoint at bert-base-uncased and are newly initialized: ['classifier']\n",
            "You should probably TRAIN this model on a down-stream task to be able to use it for predictions and inference.\n"
          ]
        }
      ],
      "source": [
        "num_labels=len(train['label'].unique())\n",
        "config = AutoConfig.from_pretrained(name)\n",
        "config.num_labels=num_labels\n",
        "model = TFAutoModelForSequenceClassification.from_pretrained(name,config=config)"
      ]
    },
    {
      "cell_type": "code",
      "source": [
        "optimizer,_=create_optimizer(init_lr =lr,num_train_steps=num_train_steps,num_warmup_steps=num_warmup_steps)"
      ],
      "metadata": {
        "id": "-vVAottiFNem"
      },
      "execution_count": 29,
      "outputs": []
    },
    {
      "cell_type": "code",
      "source": [
        "loss_fn=tf.keras.losses.SparseCategoricalCrossentropy(from_logits=True)"
      ],
      "metadata": {
        "id": "sRVOncWhnrPX"
      },
      "execution_count": 30,
      "outputs": []
    },
    {
      "cell_type": "markdown",
      "metadata": {
        "id": "WZAXIqb6EPt4"
      },
      "source": [
        "Define train_step function for training"
      ]
    },
    {
      "cell_type": "code",
      "execution_count": 31,
      "metadata": {
        "id": "RRa9juLJDw6h"
      },
      "outputs": [],
      "source": [
        "train_step_signature= [\n",
        "    tf.TensorSpec(shape=(None, None), dtype=tf.int32),\n",
        "    tf.TensorSpec(shape=(None, None), dtype=tf.int32),\n",
        "    tf.TensorSpec(shape=(None, ), dtype=tf.int32),\n",
        "]\n",
        "\n",
        "\n",
        "@tf.function(input_signature=train_step_signature)\n",
        "def train_step(input_ids, attention_mask,labels):\n",
        "  \n",
        "\n",
        "  with tf.GradientTape() as tape:\n",
        "\n",
        "    outputs= model(input_ids=input_ids,attention_mask=attention_mask,training = True)\n",
        "    loss=loss_fn(labels,outputs.logits)\n",
        "\n",
        "  gradients = tape.gradient(loss, model.trainable_variables)\n",
        "  optimizer.apply_gradients(zip(gradients, model.trainable_variables))\n",
        "  return loss"
      ]
    },
    {
      "cell_type": "markdown",
      "metadata": {
        "id": "bUkDJaa1EUUD"
      },
      "source": [
        "Defind test_step function for validation"
      ]
    },
    {
      "cell_type": "code",
      "execution_count": 32,
      "metadata": {
        "id": "mT0Bb2sCETGF"
      },
      "outputs": [],
      "source": [
        "def test_step(input_ids, attention_mask,labels):\n",
        "  \n",
        "  outputs= model(input_ids=input_ids,attention_mask=attention_mask,training = False)\n",
        "  loss=loss_fn(labels,outputs.logits)\n",
        "\n",
        "  return loss"
      ]
    },
    {
      "cell_type": "code",
      "execution_count": 33,
      "metadata": {
        "colab": {
          "base_uri": "https://localhost:8080/"
        },
        "id": "qqOye2D2Ebo5",
        "outputId": "6fae8150-b47b-47cc-ab9c-639cdd9efbcd"
      },
      "outputs": [
        {
          "output_type": "stream",
          "name": "stdout",
          "text": [
            "Initializing the new checkpoint\n"
          ]
        }
      ],
      "source": [
        "ckpt_path = model_path\n",
        "max_to_keep=5\n",
        "\n",
        "ckpt = tf.train.Checkpoint(model=model,\n",
        "                           optimizer=optimizer)\n",
        "\n",
        "ckpt_manager = tf.train.CheckpointManager(ckpt, ckpt_path, max_to_keep=max_to_keep)\n",
        "\n",
        "# if a checkpoint exists, restore the latest checkpoint.\n",
        "if ckpt_manager.latest_checkpoint:\n",
        "  ckpt.restore(ckpt_manager.latest_checkpoint)\n",
        "  print(f'Loading the latest checkpoint from {ckpt_manager.latest_checkpoint}')\n",
        "else:\n",
        "  print('Initializing the new checkpoint')"
      ]
    },
    {
      "cell_type": "code",
      "execution_count": 34,
      "metadata": {
        "id": "1I0IVESDEneQ"
      },
      "outputs": [],
      "source": [
        "threshold=1e-5"
      ]
    },
    {
      "cell_type": "markdown",
      "metadata": {
        "id": "vAlB3x8gH9LD"
      },
      "source": [
        "Train"
      ]
    },
    {
      "cell_type": "code",
      "execution_count": 35,
      "metadata": {
        "id": "BsqDK_Lm6RWw"
      },
      "outputs": [],
      "source": [
        "def run_step(dataset,session='train'):\n",
        "  \n",
        "  step=train_step if session=='train' else test_step\n",
        "\n",
        "  loop = tqdm(dataset)\n",
        "  loss=0\n",
        "\n",
        "  num_batches=0\n",
        "  for batch in dataset:\n",
        "\n",
        "    input_ids=batch['input_ids']\n",
        "    attention_mask=batch['attention_mask']\n",
        "    labels=batch['labels']\n",
        "\n",
        "    _loss=step(input_ids=input_ids,attention_mask=attention_mask,labels=labels)\n",
        "\n",
        "\n",
        "    _loss=_loss.numpy()\n",
        "    loss+=_loss\n",
        "    num_batches+=1\n",
        "    loop.set_postfix({'train_loss_per_batch':_loss})\n",
        "    loop.update()\n",
        "\n",
        "\n",
        "  loss=loss/num_batches\n",
        "  return loss"
      ]
    },
    {
      "cell_type": "code",
      "execution_count": null,
      "metadata": {
        "colab": {
          "base_uri": "https://localhost:8080/",
          "height": 49,
          "referenced_widgets": [
            "82418474c7da4e709c0574f0bc9e6912",
            "934f97fe54284ef8a1211477a5e48861",
            "281ea89f21f146b19dd75c7fd3b9d502",
            "9564ee1354154e799b3e351e2d2f57f7",
            "5d934b0d88bf4b4c8d93012c5361789c",
            "5f1e2ee0c540449bab825e8483356518",
            "9d122b877d254d478ce473267aed7af0",
            "775da3bd44e445d78c8bd2288f78eeef",
            "f34743b8a4264f73ac9ffbaf5a85e3d4",
            "e934feecac4a41b4bb5d12c293591ff2",
            "5e8b8e3038b5424bba8f3d780f7d77dd"
          ]
        },
        "id": "X43PMTaH9jks",
        "outputId": "f9a9b973-f446-454f-ccbd-e46497016de3"
      },
      "outputs": [
        {
          "output_type": "display_data",
          "data": {
            "text/plain": [
              "  0%|          | 0/1938 [00:00<?, ?it/s]"
            ],
            "application/vnd.jupyter.widget-view+json": {
              "version_major": 2,
              "version_minor": 0,
              "model_id": "82418474c7da4e709c0574f0bc9e6912"
            }
          },
          "metadata": {}
        }
      ],
      "source": [
        "min_loss=np.inf\n",
        "for epoch in range(epochs):\n",
        "\n",
        "  \"\"\"TRAINING\"\"\"\n",
        "  train_loss=run_step(train_dataset)\n",
        "\n",
        "  \"\"\"Validation\"\"\"\n",
        "  valid_loss=run_step(valid_dataset,session='valid')\n",
        "  \n",
        "  print(f'epoch: {epoch} train_loss: {train_loss} valid_loss: {valid_loss}')\n",
        "  ckpt_save_path = ckpt_manager.save()\n",
        "  # if tf.abs(min_loss-valid_loss)>threshold and min_loss>valid_loss:\n",
        "  #   ckpt_save_path = ckpt_manager.save()\n",
        "  #   print(f'Saving checkpoint for epoch {epoch} at {ckpt_save_path}')\n",
        "  #   min_loss=valid_loss"
      ]
    },
    {
      "cell_type": "markdown",
      "metadata": {
        "id": "5YSvfTmcc0pz"
      },
      "source": [
        "# Inferencing"
      ]
    },
    {
      "cell_type": "markdown",
      "metadata": {
        "id": "rOmGPSh3c_Uj"
      },
      "source": [
        "Load test set"
      ]
    },
    {
      "cell_type": "code",
      "execution_count": null,
      "metadata": {
        "id": "B5Hh4751JtMI"
      },
      "outputs": [],
      "source": [
        "test=pd.read_csv(\"/content/test.csv\")"
      ]
    },
    {
      "cell_type": "code",
      "execution_count": null,
      "metadata": {
        "id": "0hhrpCwkc5q_"
      },
      "outputs": [],
      "source": [
        "submit=pd.read_csv(\"/content/submit.csv\")\n",
        "labels=tf.convert_to_tensor(submit['label'],dtype=tf.float32)"
      ]
    },
    {
      "cell_type": "code",
      "execution_count": null,
      "metadata": {
        "id": "DQBLzC3-c62I"
      },
      "outputs": [],
      "source": [
        "test['text']=test['text'].astype(str).map(normalize)"
      ]
    },
    {
      "cell_type": "code",
      "execution_count": null,
      "metadata": {
        "id": "dCxr6E5nc7-Y"
      },
      "outputs": [],
      "source": [
        "samples=test['text'].tolist()"
      ]
    },
    {
      "cell_type": "code",
      "execution_count": null,
      "metadata": {
        "colab": {
          "base_uri": "https://localhost:8080/"
        },
        "id": "A-xSj2zRdbwF",
        "outputId": "0b6241ba-d662-48ae-e1c7-20d2ddcc0111"
      },
      "outputs": [
        {
          "data": {
            "text/plain": [
              "2"
            ]
          },
          "execution_count": 10,
          "metadata": {},
          "output_type": "execute_result"
        }
      ],
      "source": [
        "num_labels=len(submit['label'].unique())\n",
        "num_labels"
      ]
    },
    {
      "cell_type": "markdown",
      "metadata": {
        "id": "hxuQEC_GdBxx"
      },
      "source": [
        "Load model"
      ]
    },
    {
      "cell_type": "code",
      "execution_count": null,
      "metadata": {
        "id": "c7FzoZPec9D-"
      },
      "outputs": [],
      "source": [
        "from transformers import AutoConfig\n",
        "config = AutoConfig.from_pretrained(name)\n",
        "config.num_labels=num_labels"
      ]
    },
    {
      "cell_type": "code",
      "execution_count": null,
      "metadata": {
        "colab": {
          "base_uri": "https://localhost:8080/"
        },
        "id": "OzoLQXEWdHlG",
        "outputId": "31c5fe55-615c-499e-b754-efc834324c7b"
      },
      "outputs": [
        {
          "name": "stderr",
          "output_type": "stream",
          "text": [
            "All model checkpoint layers were used when initializing TFBertForSequenceClassification.\n",
            "\n",
            "Some layers of TFBertForSequenceClassification were not initialized from the model checkpoint at bert-base-uncased and are newly initialized: ['classifier']\n",
            "You should probably TRAIN this model on a down-stream task to be able to use it for predictions and inference.\n"
          ]
        }
      ],
      "source": [
        "model=TFAutoModelForSequenceClassification.from_pretrained(name,config=config)"
      ]
    },
    {
      "cell_type": "code",
      "execution_count": null,
      "metadata": {
        "colab": {
          "base_uri": "https://localhost:8080/"
        },
        "id": "c4QiUVKPfnrL",
        "outputId": "7e5f58c2-f4e5-4d70-ea45-4ba3544d8cc3"
      },
      "outputs": [
        {
          "data": {
            "text/plain": [
              "2"
            ]
          },
          "execution_count": 13,
          "metadata": {},
          "output_type": "execute_result"
        }
      ],
      "source": [
        "model.num_labels"
      ]
    },
    {
      "cell_type": "code",
      "execution_count": null,
      "metadata": {
        "id": "NyXUwJIMh1AL"
      },
      "outputs": [],
      "source": [
        "max_length=512\n",
        "return_tensors='tf'\n",
        "tokenizer = AutoTokenizer.from_pretrained(name)"
      ]
    },
    {
      "cell_type": "markdown",
      "metadata": {
        "id": "uGD3d3uOdnfV"
      },
      "source": [
        "Load the weights"
      ]
    },
    {
      "cell_type": "code",
      "execution_count": null,
      "metadata": {
        "colab": {
          "base_uri": "https://localhost:8080/"
        },
        "id": "bFBZizjUdjI1",
        "outputId": "82140d71-289d-46e3-a2ba-c53ce5133f1e"
      },
      "outputs": [
        {
          "name": "stdout",
          "output_type": "stream",
          "text": [
            "Loading the latest checkpoint from /content/drive/MyDrive/fake_news/models/bert-base-uncased/ckpt-1\n"
          ]
        }
      ],
      "source": [
        "ckpt_path = model_path\n",
        "max_to_keep=5\n",
        "\n",
        "ckpt = tf.train.Checkpoint(model=model)\n",
        "\n",
        "ckpt_manager = tf.train.CheckpointManager(ckpt, ckpt_path, max_to_keep=max_to_keep)\n",
        "\n",
        "# if a checkpoint exists, restore the latest checkpoint.\n",
        "if ckpt_manager.latest_checkpoint:\n",
        "  ckpt.restore(ckpt_manager.latest_checkpoint)\n",
        "  print(f'Loading the latest checkpoint from {ckpt_manager.latest_checkpoint}')\n",
        "else:\n",
        "  print('Initializing the new checkpoint')"
      ]
    },
    {
      "cell_type": "code",
      "execution_count": null,
      "metadata": {
        "colab": {
          "base_uri": "https://localhost:8080/"
        },
        "id": "cherwcLmdqZG",
        "outputId": "2542ac7e-d0d9-4623-db83-72769983d7f9"
      },
      "outputs": [
        {
          "name": "stderr",
          "output_type": "stream",
          "text": [
            "100%|██████████| 5200/5200 [15:35<00:00,  5.74it/s]"
          ]
        }
      ],
      "source": [
        "y_pred=[]\n",
        "loop = tqdm(range(len(samples)))\n",
        "for idx,sample in enumerate(samples):\n",
        "  inputs=tokenizer(sample,padding=True,truncation=True,max_length=max_length,return_tensors=return_tensors)\n",
        "  outputs=model(**inputs,training=False)\n",
        "  prob=tf.nn.softmax(outputs.logits,axis=1)\n",
        "  preds=tf.argmax(prob,axis=1)\n",
        "  y_pred.append(preds)\n",
        "  loop.update()\n"
      ]
    },
    {
      "cell_type": "code",
      "execution_count": null,
      "metadata": {
        "id": "UjCCpNrMduON"
      },
      "outputs": [],
      "source": [
        "y_pred=tf.convert_to_tensor(y_pred)"
      ]
    },
    {
      "cell_type": "code",
      "execution_count": null,
      "metadata": {
        "colab": {
          "base_uri": "https://localhost:8080/"
        },
        "id": "svR_v3dRmqAH",
        "outputId": "c9a85fdd-3b69-478e-800e-a3e6e5bd893a"
      },
      "outputs": [
        {
          "data": {
            "text/plain": [
              "<tf.Tensor: shape=(5200,), dtype=int64, numpy=array([0, 1, 1, ..., 0, 1, 0])>"
            ]
          },
          "execution_count": 18,
          "metadata": {},
          "output_type": "execute_result"
        }
      ],
      "source": [
        "y_pred=tf.reshape(y_pred,shape=(y_pred.shape[0],))\n",
        "y_pred"
      ]
    },
    {
      "cell_type": "code",
      "execution_count": null,
      "metadata": {
        "colab": {
          "base_uri": "https://localhost:8080/"
        },
        "id": "B0hUW5oSmqXH",
        "outputId": "f90e2dee-ead3-4bfd-b052-b872c328c1c8"
      },
      "outputs": [
        {
          "data": {
            "text/plain": [
              "<tf.Tensor: shape=(5200,), dtype=float32, numpy=array([0., 1., 0., ..., 0., 1., 0.], dtype=float32)>"
            ]
          },
          "execution_count": 19,
          "metadata": {},
          "output_type": "execute_result"
        }
      ],
      "source": [
        "labels"
      ]
    },
    {
      "cell_type": "code",
      "execution_count": null,
      "metadata": {
        "id": "8zyYVGQKmwtv"
      },
      "outputs": [],
      "source": [
        "f1_score(labels,y_pred,average='micro')"
      ]
    },
    {
      "cell_type": "code",
      "execution_count": null,
      "metadata": {
        "id": "qGjBQi3Jm6Gi"
      },
      "outputs": [],
      "source": [
        ""
      ]
    }
  ],
  "metadata": {
    "colab": {
      "collapsed_sections": [],
      "name": "fake_news_classification.ipynb",
      "provenance": []
    },
    "kernelspec": {
      "display_name": "Python 3",
      "name": "python3"
    },
    "language_info": {
      "name": "python"
    },
    "widgets": {
      "application/vnd.jupyter.widget-state+json": {
        "82418474c7da4e709c0574f0bc9e6912": {
          "model_module": "@jupyter-widgets/controls",
          "model_name": "HBoxModel",
          "model_module_version": "1.5.0",
          "state": {
            "_dom_classes": [],
            "_model_module": "@jupyter-widgets/controls",
            "_model_module_version": "1.5.0",
            "_model_name": "HBoxModel",
            "_view_count": null,
            "_view_module": "@jupyter-widgets/controls",
            "_view_module_version": "1.5.0",
            "_view_name": "HBoxView",
            "box_style": "",
            "children": [
              "IPY_MODEL_934f97fe54284ef8a1211477a5e48861",
              "IPY_MODEL_281ea89f21f146b19dd75c7fd3b9d502",
              "IPY_MODEL_9564ee1354154e799b3e351e2d2f57f7"
            ],
            "layout": "IPY_MODEL_5d934b0d88bf4b4c8d93012c5361789c"
          }
        },
        "934f97fe54284ef8a1211477a5e48861": {
          "model_module": "@jupyter-widgets/controls",
          "model_name": "HTMLModel",
          "model_module_version": "1.5.0",
          "state": {
            "_dom_classes": [],
            "_model_module": "@jupyter-widgets/controls",
            "_model_module_version": "1.5.0",
            "_model_name": "HTMLModel",
            "_view_count": null,
            "_view_module": "@jupyter-widgets/controls",
            "_view_module_version": "1.5.0",
            "_view_name": "HTMLView",
            "description": "",
            "description_tooltip": null,
            "layout": "IPY_MODEL_5f1e2ee0c540449bab825e8483356518",
            "placeholder": "​",
            "style": "IPY_MODEL_9d122b877d254d478ce473267aed7af0",
            "value": " 27%"
          }
        },
        "281ea89f21f146b19dd75c7fd3b9d502": {
          "model_module": "@jupyter-widgets/controls",
          "model_name": "FloatProgressModel",
          "model_module_version": "1.5.0",
          "state": {
            "_dom_classes": [],
            "_model_module": "@jupyter-widgets/controls",
            "_model_module_version": "1.5.0",
            "_model_name": "FloatProgressModel",
            "_view_count": null,
            "_view_module": "@jupyter-widgets/controls",
            "_view_module_version": "1.5.0",
            "_view_name": "ProgressView",
            "bar_style": "",
            "description": "",
            "description_tooltip": null,
            "layout": "IPY_MODEL_775da3bd44e445d78c8bd2288f78eeef",
            "max": 1938,
            "min": 0,
            "orientation": "horizontal",
            "style": "IPY_MODEL_f34743b8a4264f73ac9ffbaf5a85e3d4",
            "value": 525
          }
        },
        "9564ee1354154e799b3e351e2d2f57f7": {
          "model_module": "@jupyter-widgets/controls",
          "model_name": "HTMLModel",
          "model_module_version": "1.5.0",
          "state": {
            "_dom_classes": [],
            "_model_module": "@jupyter-widgets/controls",
            "_model_module_version": "1.5.0",
            "_model_name": "HTMLModel",
            "_view_count": null,
            "_view_module": "@jupyter-widgets/controls",
            "_view_module_version": "1.5.0",
            "_view_name": "HTMLView",
            "description": "",
            "description_tooltip": null,
            "layout": "IPY_MODEL_e934feecac4a41b4bb5d12c293591ff2",
            "placeholder": "​",
            "style": "IPY_MODEL_5e8b8e3038b5424bba8f3d780f7d77dd",
            "value": " 525/1938 [08:58&lt;24:26,  1.04s/it, train_loss_per_batch=0.685]"
          }
        },
        "5d934b0d88bf4b4c8d93012c5361789c": {
          "model_module": "@jupyter-widgets/base",
          "model_name": "LayoutModel",
          "model_module_version": "1.2.0",
          "state": {
            "_model_module": "@jupyter-widgets/base",
            "_model_module_version": "1.2.0",
            "_model_name": "LayoutModel",
            "_view_count": null,
            "_view_module": "@jupyter-widgets/base",
            "_view_module_version": "1.2.0",
            "_view_name": "LayoutView",
            "align_content": null,
            "align_items": null,
            "align_self": null,
            "border": null,
            "bottom": null,
            "display": null,
            "flex": null,
            "flex_flow": null,
            "grid_area": null,
            "grid_auto_columns": null,
            "grid_auto_flow": null,
            "grid_auto_rows": null,
            "grid_column": null,
            "grid_gap": null,
            "grid_row": null,
            "grid_template_areas": null,
            "grid_template_columns": null,
            "grid_template_rows": null,
            "height": null,
            "justify_content": null,
            "justify_items": null,
            "left": null,
            "margin": null,
            "max_height": null,
            "max_width": null,
            "min_height": null,
            "min_width": null,
            "object_fit": null,
            "object_position": null,
            "order": null,
            "overflow": null,
            "overflow_x": null,
            "overflow_y": null,
            "padding": null,
            "right": null,
            "top": null,
            "visibility": null,
            "width": null
          }
        },
        "5f1e2ee0c540449bab825e8483356518": {
          "model_module": "@jupyter-widgets/base",
          "model_name": "LayoutModel",
          "model_module_version": "1.2.0",
          "state": {
            "_model_module": "@jupyter-widgets/base",
            "_model_module_version": "1.2.0",
            "_model_name": "LayoutModel",
            "_view_count": null,
            "_view_module": "@jupyter-widgets/base",
            "_view_module_version": "1.2.0",
            "_view_name": "LayoutView",
            "align_content": null,
            "align_items": null,
            "align_self": null,
            "border": null,
            "bottom": null,
            "display": null,
            "flex": null,
            "flex_flow": null,
            "grid_area": null,
            "grid_auto_columns": null,
            "grid_auto_flow": null,
            "grid_auto_rows": null,
            "grid_column": null,
            "grid_gap": null,
            "grid_row": null,
            "grid_template_areas": null,
            "grid_template_columns": null,
            "grid_template_rows": null,
            "height": null,
            "justify_content": null,
            "justify_items": null,
            "left": null,
            "margin": null,
            "max_height": null,
            "max_width": null,
            "min_height": null,
            "min_width": null,
            "object_fit": null,
            "object_position": null,
            "order": null,
            "overflow": null,
            "overflow_x": null,
            "overflow_y": null,
            "padding": null,
            "right": null,
            "top": null,
            "visibility": null,
            "width": null
          }
        },
        "9d122b877d254d478ce473267aed7af0": {
          "model_module": "@jupyter-widgets/controls",
          "model_name": "DescriptionStyleModel",
          "model_module_version": "1.5.0",
          "state": {
            "_model_module": "@jupyter-widgets/controls",
            "_model_module_version": "1.5.0",
            "_model_name": "DescriptionStyleModel",
            "_view_count": null,
            "_view_module": "@jupyter-widgets/base",
            "_view_module_version": "1.2.0",
            "_view_name": "StyleView",
            "description_width": ""
          }
        },
        "775da3bd44e445d78c8bd2288f78eeef": {
          "model_module": "@jupyter-widgets/base",
          "model_name": "LayoutModel",
          "model_module_version": "1.2.0",
          "state": {
            "_model_module": "@jupyter-widgets/base",
            "_model_module_version": "1.2.0",
            "_model_name": "LayoutModel",
            "_view_count": null,
            "_view_module": "@jupyter-widgets/base",
            "_view_module_version": "1.2.0",
            "_view_name": "LayoutView",
            "align_content": null,
            "align_items": null,
            "align_self": null,
            "border": null,
            "bottom": null,
            "display": null,
            "flex": null,
            "flex_flow": null,
            "grid_area": null,
            "grid_auto_columns": null,
            "grid_auto_flow": null,
            "grid_auto_rows": null,
            "grid_column": null,
            "grid_gap": null,
            "grid_row": null,
            "grid_template_areas": null,
            "grid_template_columns": null,
            "grid_template_rows": null,
            "height": null,
            "justify_content": null,
            "justify_items": null,
            "left": null,
            "margin": null,
            "max_height": null,
            "max_width": null,
            "min_height": null,
            "min_width": null,
            "object_fit": null,
            "object_position": null,
            "order": null,
            "overflow": null,
            "overflow_x": null,
            "overflow_y": null,
            "padding": null,
            "right": null,
            "top": null,
            "visibility": null,
            "width": null
          }
        },
        "f34743b8a4264f73ac9ffbaf5a85e3d4": {
          "model_module": "@jupyter-widgets/controls",
          "model_name": "ProgressStyleModel",
          "model_module_version": "1.5.0",
          "state": {
            "_model_module": "@jupyter-widgets/controls",
            "_model_module_version": "1.5.0",
            "_model_name": "ProgressStyleModel",
            "_view_count": null,
            "_view_module": "@jupyter-widgets/base",
            "_view_module_version": "1.2.0",
            "_view_name": "StyleView",
            "bar_color": null,
            "description_width": ""
          }
        },
        "e934feecac4a41b4bb5d12c293591ff2": {
          "model_module": "@jupyter-widgets/base",
          "model_name": "LayoutModel",
          "model_module_version": "1.2.0",
          "state": {
            "_model_module": "@jupyter-widgets/base",
            "_model_module_version": "1.2.0",
            "_model_name": "LayoutModel",
            "_view_count": null,
            "_view_module": "@jupyter-widgets/base",
            "_view_module_version": "1.2.0",
            "_view_name": "LayoutView",
            "align_content": null,
            "align_items": null,
            "align_self": null,
            "border": null,
            "bottom": null,
            "display": null,
            "flex": null,
            "flex_flow": null,
            "grid_area": null,
            "grid_auto_columns": null,
            "grid_auto_flow": null,
            "grid_auto_rows": null,
            "grid_column": null,
            "grid_gap": null,
            "grid_row": null,
            "grid_template_areas": null,
            "grid_template_columns": null,
            "grid_template_rows": null,
            "height": null,
            "justify_content": null,
            "justify_items": null,
            "left": null,
            "margin": null,
            "max_height": null,
            "max_width": null,
            "min_height": null,
            "min_width": null,
            "object_fit": null,
            "object_position": null,
            "order": null,
            "overflow": null,
            "overflow_x": null,
            "overflow_y": null,
            "padding": null,
            "right": null,
            "top": null,
            "visibility": null,
            "width": null
          }
        },
        "5e8b8e3038b5424bba8f3d780f7d77dd": {
          "model_module": "@jupyter-widgets/controls",
          "model_name": "DescriptionStyleModel",
          "model_module_version": "1.5.0",
          "state": {
            "_model_module": "@jupyter-widgets/controls",
            "_model_module_version": "1.5.0",
            "_model_name": "DescriptionStyleModel",
            "_view_count": null,
            "_view_module": "@jupyter-widgets/base",
            "_view_module_version": "1.2.0",
            "_view_name": "StyleView",
            "description_width": ""
          }
        }
      }
    },
    "accelerator": "GPU"
  },
  "nbformat": 4,
  "nbformat_minor": 0
}